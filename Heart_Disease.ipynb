{
  "nbformat": 4,
  "nbformat_minor": 0,
  "metadata": {
    "colab": {
      "name": "Heart_Disease.ipynb",
      "provenance": [],
      "collapsed_sections": [],
      "toc_visible": true
    },
    "kernelspec": {
      "name": "python3",
      "display_name": "Python 3"
    },
    "language_info": {
      "name": "python"
    }
  },
  "cells": [
    {
      "cell_type": "markdown",
      "metadata": {
        "id": "wRkxvO07H3NK"
      },
      "source": [
        "#Importando biblitecas necessárias e dataset"
      ]
    },
    {
      "cell_type": "code",
      "metadata": {
        "id": "aFQA2Mh8RB3B"
      },
      "source": [
        "# importando as bibliotecas necessárias\n",
        "import pandas as pd\n",
        "import numpy as np\n",
        "import seaborn as sns\n",
        "import matplotlib.pyplot as plt\n",
        "\n",
        "from sklearn.model_selection import train_test_split, GridSearchCV\n",
        "from sklearn.linear_model import LogisticRegression\n",
        "from sklearn.preprocessing import StandardScaler\n",
        "from sklearn.ensemble import RandomForestClassifier\n",
        "from sklearn.svm import SVC\n",
        "from sklearn.tree import DecisionTreeClassifier\n",
        "from sklearn.neural_network import MLPClassifier\n",
        "from xgboost import XGBClassifier, train\n",
        "\n",
        "from sklearn.metrics import f1_score, accuracy_score, precision_score, recall_score, plot_confusion_matrix, plot_roc_curve\n",
        "import warnings\n",
        "warnings.filterwarnings('ignore')"
      ],
      "execution_count": 1,
      "outputs": []
    },
    {
      "cell_type": "markdown",
      "metadata": {
        "id": "UKdGR0vUaQAT"
      },
      "source": [
        "Importando o dataset"
      ]
    },
    {
      "cell_type": "code",
      "metadata": {
        "id": "5JcDbot3ZTh0"
      },
      "source": [
        "df = pd.read_csv('/content/drive/MyDrive/Colab Notebooks/slot 6/heart.csv')"
      ],
      "execution_count": 2,
      "outputs": []
    },
    {
      "cell_type": "code",
      "metadata": {
        "colab": {
          "base_uri": "https://localhost:8080/",
          "height": 203
        },
        "id": "K8BBnXPcaDOM",
        "outputId": "182e0239-98b7-4250-d894-319a77f6bd12"
      },
      "source": [
        "df.head()"
      ],
      "execution_count": 3,
      "outputs": [
        {
          "output_type": "execute_result",
          "data": {
            "text/html": [
              "<div>\n",
              "<style scoped>\n",
              "    .dataframe tbody tr th:only-of-type {\n",
              "        vertical-align: middle;\n",
              "    }\n",
              "\n",
              "    .dataframe tbody tr th {\n",
              "        vertical-align: top;\n",
              "    }\n",
              "\n",
              "    .dataframe thead th {\n",
              "        text-align: right;\n",
              "    }\n",
              "</style>\n",
              "<table border=\"1\" class=\"dataframe\">\n",
              "  <thead>\n",
              "    <tr style=\"text-align: right;\">\n",
              "      <th></th>\n",
              "      <th>age</th>\n",
              "      <th>sex</th>\n",
              "      <th>cp</th>\n",
              "      <th>trestbps</th>\n",
              "      <th>chol</th>\n",
              "      <th>fbs</th>\n",
              "      <th>restecg</th>\n",
              "      <th>thalach</th>\n",
              "      <th>exang</th>\n",
              "      <th>oldpeak</th>\n",
              "      <th>slope</th>\n",
              "      <th>ca</th>\n",
              "      <th>thal</th>\n",
              "      <th>target</th>\n",
              "    </tr>\n",
              "  </thead>\n",
              "  <tbody>\n",
              "    <tr>\n",
              "      <th>0</th>\n",
              "      <td>63</td>\n",
              "      <td>1</td>\n",
              "      <td>3</td>\n",
              "      <td>145</td>\n",
              "      <td>233</td>\n",
              "      <td>1</td>\n",
              "      <td>0</td>\n",
              "      <td>150</td>\n",
              "      <td>0</td>\n",
              "      <td>2.3</td>\n",
              "      <td>0</td>\n",
              "      <td>0</td>\n",
              "      <td>1</td>\n",
              "      <td>1</td>\n",
              "    </tr>\n",
              "    <tr>\n",
              "      <th>1</th>\n",
              "      <td>37</td>\n",
              "      <td>1</td>\n",
              "      <td>2</td>\n",
              "      <td>130</td>\n",
              "      <td>250</td>\n",
              "      <td>0</td>\n",
              "      <td>1</td>\n",
              "      <td>187</td>\n",
              "      <td>0</td>\n",
              "      <td>3.5</td>\n",
              "      <td>0</td>\n",
              "      <td>0</td>\n",
              "      <td>2</td>\n",
              "      <td>1</td>\n",
              "    </tr>\n",
              "    <tr>\n",
              "      <th>2</th>\n",
              "      <td>41</td>\n",
              "      <td>0</td>\n",
              "      <td>1</td>\n",
              "      <td>130</td>\n",
              "      <td>204</td>\n",
              "      <td>0</td>\n",
              "      <td>0</td>\n",
              "      <td>172</td>\n",
              "      <td>0</td>\n",
              "      <td>1.4</td>\n",
              "      <td>2</td>\n",
              "      <td>0</td>\n",
              "      <td>2</td>\n",
              "      <td>1</td>\n",
              "    </tr>\n",
              "    <tr>\n",
              "      <th>3</th>\n",
              "      <td>56</td>\n",
              "      <td>1</td>\n",
              "      <td>1</td>\n",
              "      <td>120</td>\n",
              "      <td>236</td>\n",
              "      <td>0</td>\n",
              "      <td>1</td>\n",
              "      <td>178</td>\n",
              "      <td>0</td>\n",
              "      <td>0.8</td>\n",
              "      <td>2</td>\n",
              "      <td>0</td>\n",
              "      <td>2</td>\n",
              "      <td>1</td>\n",
              "    </tr>\n",
              "    <tr>\n",
              "      <th>4</th>\n",
              "      <td>57</td>\n",
              "      <td>0</td>\n",
              "      <td>0</td>\n",
              "      <td>120</td>\n",
              "      <td>354</td>\n",
              "      <td>0</td>\n",
              "      <td>1</td>\n",
              "      <td>163</td>\n",
              "      <td>1</td>\n",
              "      <td>0.6</td>\n",
              "      <td>2</td>\n",
              "      <td>0</td>\n",
              "      <td>2</td>\n",
              "      <td>1</td>\n",
              "    </tr>\n",
              "  </tbody>\n",
              "</table>\n",
              "</div>"
            ],
            "text/plain": [
              "   age  sex  cp  trestbps  chol  fbs  ...  exang  oldpeak  slope  ca  thal  target\n",
              "0   63    1   3       145   233    1  ...      0      2.3      0   0     1       1\n",
              "1   37    1   2       130   250    0  ...      0      3.5      0   0     2       1\n",
              "2   41    0   1       130   204    0  ...      0      1.4      2   0     2       1\n",
              "3   56    1   1       120   236    0  ...      0      0.8      2   0     2       1\n",
              "4   57    0   0       120   354    0  ...      1      0.6      2   0     2       1\n",
              "\n",
              "[5 rows x 14 columns]"
            ]
          },
          "metadata": {},
          "execution_count": 3
        }
      ]
    },
    {
      "cell_type": "code",
      "metadata": {
        "colab": {
          "base_uri": "https://localhost:8080/"
        },
        "id": "t9no0a_YaGd3",
        "outputId": "e6a33f18-fd57-4c1a-ea05-4de6a042cb50"
      },
      "source": [
        "df.shape"
      ],
      "execution_count": 4,
      "outputs": [
        {
          "output_type": "execute_result",
          "data": {
            "text/plain": [
              "(303, 14)"
            ]
          },
          "metadata": {},
          "execution_count": 4
        }
      ]
    },
    {
      "cell_type": "markdown",
      "metadata": {
        "id": "cxAnhzheaW5D"
      },
      "source": [
        "Verificando a quantidade de valores nulos no dataset"
      ]
    },
    {
      "cell_type": "code",
      "metadata": {
        "colab": {
          "base_uri": "https://localhost:8080/"
        },
        "id": "t1d0qKh4aT6t",
        "outputId": "ff558b21-a810-410c-e479-4cffd127d116"
      },
      "source": [
        "df.isnull().sum()"
      ],
      "execution_count": 5,
      "outputs": [
        {
          "output_type": "execute_result",
          "data": {
            "text/plain": [
              "age         0\n",
              "sex         0\n",
              "cp          0\n",
              "trestbps    0\n",
              "chol        0\n",
              "fbs         0\n",
              "restecg     0\n",
              "thalach     0\n",
              "exang       0\n",
              "oldpeak     0\n",
              "slope       0\n",
              "ca          0\n",
              "thal        0\n",
              "target      0\n",
              "dtype: int64"
            ]
          },
          "metadata": {},
          "execution_count": 5
        }
      ]
    },
    {
      "cell_type": "code",
      "metadata": {
        "colab": {
          "base_uri": "https://localhost:8080/"
        },
        "id": "wCXw6RCta2A5",
        "outputId": "1e28c51f-6c49-4b05-ab94-dde59b8eca78"
      },
      "source": [
        "df.info()"
      ],
      "execution_count": 6,
      "outputs": [
        {
          "output_type": "stream",
          "name": "stdout",
          "text": [
            "<class 'pandas.core.frame.DataFrame'>\n",
            "RangeIndex: 303 entries, 0 to 302\n",
            "Data columns (total 14 columns):\n",
            " #   Column    Non-Null Count  Dtype  \n",
            "---  ------    --------------  -----  \n",
            " 0   age       303 non-null    int64  \n",
            " 1   sex       303 non-null    int64  \n",
            " 2   cp        303 non-null    int64  \n",
            " 3   trestbps  303 non-null    int64  \n",
            " 4   chol      303 non-null    int64  \n",
            " 5   fbs       303 non-null    int64  \n",
            " 6   restecg   303 non-null    int64  \n",
            " 7   thalach   303 non-null    int64  \n",
            " 8   exang     303 non-null    int64  \n",
            " 9   oldpeak   303 non-null    float64\n",
            " 10  slope     303 non-null    int64  \n",
            " 11  ca        303 non-null    int64  \n",
            " 12  thal      303 non-null    int64  \n",
            " 13  target    303 non-null    int64  \n",
            "dtypes: float64(1), int64(13)\n",
            "memory usage: 33.3 KB\n"
          ]
        }
      ]
    },
    {
      "cell_type": "code",
      "metadata": {
        "id": "wdNiu6TJa9eC"
      },
      "source": [
        "# o Dataset não apresenta nenhum valor nulo"
      ],
      "execution_count": 7,
      "outputs": []
    },
    {
      "cell_type": "markdown",
      "metadata": {
        "id": "dMMebvNvb4ER"
      },
      "source": [
        "Entendendo o Dataset"
      ]
    },
    {
      "cell_type": "markdown",
      "metadata": {
        "id": "TS5i5G1db6VA"
      },
      "source": [
        "\n",
        "* age - age in years\n",
        "* sex - 1: male, 0: female\n",
        "* cp - chest pain type, 1 to 4\n",
        "  * 0: Typical angina: chest pain related decrease blood supply to the heart\n",
        "  * 1: Atypical angina: chest pain not related to heart\n",
        "  * 2: Non-anginal pain: typically esophageal spasms (non heart related)\n",
        "  * 3: Asymptomatic: chest pain not showing signs of disease\n",
        "* trestbps - resting blood pressure\n",
        "* chol - serum cholestoral in mg/dl\n",
        "* fbs - fasting blood sugar (> 120 mg/dl) 1:True, 0:False\n",
        "* restecg - resting electrocardiographic results (values 0,1,2)\n",
        "* thalach - maximum heart rate achieved\n",
        "* exang - exercise induced angina\n",
        "* oldpeak - ST depression induced by exercise relative to rest\n",
        "* slope - the slope of the peak exercise ST segment\n",
        "* ca - number of major vessels (0-3) colored by flourosopy\n",
        "* thal -  thalium stress result, \n",
        "3 = normal; 6 = fixed defect; 7 = reversable defect"
      ]
    },
    {
      "cell_type": "markdown",
      "metadata": {
        "id": "Px66iKTwesy0"
      },
      "source": [
        "# EXPLORATORY DATA ANALYSIS (EDA)"
      ]
    },
    {
      "cell_type": "code",
      "metadata": {
        "colab": {
          "base_uri": "https://localhost:8080/",
          "height": 315
        },
        "id": "2ASjZPm_bOFx",
        "outputId": "7c9483e6-5ba8-496f-cf5c-0269a01f2aae"
      },
      "source": [
        "df.describe()"
      ],
      "execution_count": 8,
      "outputs": [
        {
          "output_type": "execute_result",
          "data": {
            "text/html": [
              "<div>\n",
              "<style scoped>\n",
              "    .dataframe tbody tr th:only-of-type {\n",
              "        vertical-align: middle;\n",
              "    }\n",
              "\n",
              "    .dataframe tbody tr th {\n",
              "        vertical-align: top;\n",
              "    }\n",
              "\n",
              "    .dataframe thead th {\n",
              "        text-align: right;\n",
              "    }\n",
              "</style>\n",
              "<table border=\"1\" class=\"dataframe\">\n",
              "  <thead>\n",
              "    <tr style=\"text-align: right;\">\n",
              "      <th></th>\n",
              "      <th>age</th>\n",
              "      <th>sex</th>\n",
              "      <th>cp</th>\n",
              "      <th>trestbps</th>\n",
              "      <th>chol</th>\n",
              "      <th>fbs</th>\n",
              "      <th>restecg</th>\n",
              "      <th>thalach</th>\n",
              "      <th>exang</th>\n",
              "      <th>oldpeak</th>\n",
              "      <th>slope</th>\n",
              "      <th>ca</th>\n",
              "      <th>thal</th>\n",
              "      <th>target</th>\n",
              "    </tr>\n",
              "  </thead>\n",
              "  <tbody>\n",
              "    <tr>\n",
              "      <th>count</th>\n",
              "      <td>303.000000</td>\n",
              "      <td>303.000000</td>\n",
              "      <td>303.000000</td>\n",
              "      <td>303.000000</td>\n",
              "      <td>303.000000</td>\n",
              "      <td>303.000000</td>\n",
              "      <td>303.000000</td>\n",
              "      <td>303.000000</td>\n",
              "      <td>303.000000</td>\n",
              "      <td>303.000000</td>\n",
              "      <td>303.000000</td>\n",
              "      <td>303.000000</td>\n",
              "      <td>303.000000</td>\n",
              "      <td>303.000000</td>\n",
              "    </tr>\n",
              "    <tr>\n",
              "      <th>mean</th>\n",
              "      <td>54.366337</td>\n",
              "      <td>0.683168</td>\n",
              "      <td>0.966997</td>\n",
              "      <td>131.623762</td>\n",
              "      <td>246.264026</td>\n",
              "      <td>0.148515</td>\n",
              "      <td>0.528053</td>\n",
              "      <td>149.646865</td>\n",
              "      <td>0.326733</td>\n",
              "      <td>1.039604</td>\n",
              "      <td>1.399340</td>\n",
              "      <td>0.729373</td>\n",
              "      <td>2.313531</td>\n",
              "      <td>0.544554</td>\n",
              "    </tr>\n",
              "    <tr>\n",
              "      <th>std</th>\n",
              "      <td>9.082101</td>\n",
              "      <td>0.466011</td>\n",
              "      <td>1.032052</td>\n",
              "      <td>17.538143</td>\n",
              "      <td>51.830751</td>\n",
              "      <td>0.356198</td>\n",
              "      <td>0.525860</td>\n",
              "      <td>22.905161</td>\n",
              "      <td>0.469794</td>\n",
              "      <td>1.161075</td>\n",
              "      <td>0.616226</td>\n",
              "      <td>1.022606</td>\n",
              "      <td>0.612277</td>\n",
              "      <td>0.498835</td>\n",
              "    </tr>\n",
              "    <tr>\n",
              "      <th>min</th>\n",
              "      <td>29.000000</td>\n",
              "      <td>0.000000</td>\n",
              "      <td>0.000000</td>\n",
              "      <td>94.000000</td>\n",
              "      <td>126.000000</td>\n",
              "      <td>0.000000</td>\n",
              "      <td>0.000000</td>\n",
              "      <td>71.000000</td>\n",
              "      <td>0.000000</td>\n",
              "      <td>0.000000</td>\n",
              "      <td>0.000000</td>\n",
              "      <td>0.000000</td>\n",
              "      <td>0.000000</td>\n",
              "      <td>0.000000</td>\n",
              "    </tr>\n",
              "    <tr>\n",
              "      <th>25%</th>\n",
              "      <td>47.500000</td>\n",
              "      <td>0.000000</td>\n",
              "      <td>0.000000</td>\n",
              "      <td>120.000000</td>\n",
              "      <td>211.000000</td>\n",
              "      <td>0.000000</td>\n",
              "      <td>0.000000</td>\n",
              "      <td>133.500000</td>\n",
              "      <td>0.000000</td>\n",
              "      <td>0.000000</td>\n",
              "      <td>1.000000</td>\n",
              "      <td>0.000000</td>\n",
              "      <td>2.000000</td>\n",
              "      <td>0.000000</td>\n",
              "    </tr>\n",
              "    <tr>\n",
              "      <th>50%</th>\n",
              "      <td>55.000000</td>\n",
              "      <td>1.000000</td>\n",
              "      <td>1.000000</td>\n",
              "      <td>130.000000</td>\n",
              "      <td>240.000000</td>\n",
              "      <td>0.000000</td>\n",
              "      <td>1.000000</td>\n",
              "      <td>153.000000</td>\n",
              "      <td>0.000000</td>\n",
              "      <td>0.800000</td>\n",
              "      <td>1.000000</td>\n",
              "      <td>0.000000</td>\n",
              "      <td>2.000000</td>\n",
              "      <td>1.000000</td>\n",
              "    </tr>\n",
              "    <tr>\n",
              "      <th>75%</th>\n",
              "      <td>61.000000</td>\n",
              "      <td>1.000000</td>\n",
              "      <td>2.000000</td>\n",
              "      <td>140.000000</td>\n",
              "      <td>274.500000</td>\n",
              "      <td>0.000000</td>\n",
              "      <td>1.000000</td>\n",
              "      <td>166.000000</td>\n",
              "      <td>1.000000</td>\n",
              "      <td>1.600000</td>\n",
              "      <td>2.000000</td>\n",
              "      <td>1.000000</td>\n",
              "      <td>3.000000</td>\n",
              "      <td>1.000000</td>\n",
              "    </tr>\n",
              "    <tr>\n",
              "      <th>max</th>\n",
              "      <td>77.000000</td>\n",
              "      <td>1.000000</td>\n",
              "      <td>3.000000</td>\n",
              "      <td>200.000000</td>\n",
              "      <td>564.000000</td>\n",
              "      <td>1.000000</td>\n",
              "      <td>2.000000</td>\n",
              "      <td>202.000000</td>\n",
              "      <td>1.000000</td>\n",
              "      <td>6.200000</td>\n",
              "      <td>2.000000</td>\n",
              "      <td>4.000000</td>\n",
              "      <td>3.000000</td>\n",
              "      <td>1.000000</td>\n",
              "    </tr>\n",
              "  </tbody>\n",
              "</table>\n",
              "</div>"
            ],
            "text/plain": [
              "              age         sex          cp  ...          ca        thal      target\n",
              "count  303.000000  303.000000  303.000000  ...  303.000000  303.000000  303.000000\n",
              "mean    54.366337    0.683168    0.966997  ...    0.729373    2.313531    0.544554\n",
              "std      9.082101    0.466011    1.032052  ...    1.022606    0.612277    0.498835\n",
              "min     29.000000    0.000000    0.000000  ...    0.000000    0.000000    0.000000\n",
              "25%     47.500000    0.000000    0.000000  ...    0.000000    2.000000    0.000000\n",
              "50%     55.000000    1.000000    1.000000  ...    0.000000    2.000000    1.000000\n",
              "75%     61.000000    1.000000    2.000000  ...    1.000000    3.000000    1.000000\n",
              "max     77.000000    1.000000    3.000000  ...    4.000000    3.000000    1.000000\n",
              "\n",
              "[8 rows x 14 columns]"
            ]
          },
          "metadata": {},
          "execution_count": 8
        }
      ]
    },
    {
      "cell_type": "code",
      "metadata": {
        "colab": {
          "base_uri": "https://localhost:8080/",
          "height": 395
        },
        "id": "BFkEaQNXBfaN",
        "outputId": "9ea8c4b5-705f-4399-deb1-09722029b2ed"
      },
      "source": [
        "plt.figure(figsize=(12,6))\n",
        "sns.heatmap(df.corr(),annot=True)"
      ],
      "execution_count": 9,
      "outputs": [
        {
          "output_type": "execute_result",
          "data": {
            "text/plain": [
              "<matplotlib.axes._subplots.AxesSubplot at 0x7f99a9da8a50>"
            ]
          },
          "metadata": {},
          "execution_count": 9
        },
        {
          "output_type": "display_data",
          "data": {
            "image/png": "[encoded data removed]",
            "text/plain": [
              "<Figure size 864x432 with 2 Axes>"
            ]
          },
          "metadata": {
            "needs_background": "light"
          }
        }
      ]
    },
    {
      "cell_type": "markdown",
      "metadata": {
        "id": "VAsCA-FQflHG"
      },
      "source": [
        "**Analisando a variável TARGET**"
      ]
    },
    {
      "cell_type": "code",
      "metadata": {
        "colab": {
          "base_uri": "https://localhost:8080/"
        },
        "id": "Qvz2z34tfrNa",
        "outputId": "5979780d-1f0f-4c61-f0d3-9b646cdf4ddb"
      },
      "source": [
        "y = df['target']\n",
        "y.value_counts()"
      ],
      "execution_count": 10,
      "outputs": [
        {
          "output_type": "execute_result",
          "data": {
            "text/plain": [
              "1    165\n",
              "0    138\n",
              "Name: target, dtype: int64"
            ]
          },
          "metadata": {},
          "execution_count": 10
        }
      ]
    },
    {
      "cell_type": "markdown",
      "metadata": {
        "id": "tQWadTbMJ0ag"
      },
      "source": [
        "**Verificando os outliers**"
      ]
    },
    {
      "cell_type": "code",
      "metadata": {
        "colab": {
          "base_uri": "https://localhost:8080/"
        },
        "id": "2jaxuxkRJeqi",
        "outputId": "46f72207-cf79-488d-ffa9-086a4d280cc4"
      },
      "source": [
        "from scipy import stats\n",
        "out_cols=['age','trestbps', 'chol','thalach','oldpeak'] #colunas com variáveis contínuas\n",
        "\n",
        "for col in out_cols:\n",
        "    z=np.abs(stats.zscore(df[col]))\n",
        "    print(col, df[z>3].shape[0])"
      ],
      "execution_count": 11,
      "outputs": [
        {
          "output_type": "stream",
          "name": "stdout",
          "text": [
            "age 0\n",
            "trestbps 2\n",
            "chol 4\n",
            "thalach 1\n",
            "oldpeak 2\n"
          ]
        }
      ]
    },
    {
      "cell_type": "code",
      "metadata": {
        "id": "hZldwqw_XYlb"
      },
      "source": [
        "# Durante o EDA, esse estudo de outlier será aprofundado"
      ],
      "execution_count": 12,
      "outputs": []
    },
    {
      "cell_type": "code",
      "metadata": {
        "colab": {
          "base_uri": "https://localhost:8080/",
          "height": 438
        },
        "id": "mGkFZ7koJsS6",
        "outputId": "81e688f9-dcf1-43ec-f10e-5d17f377f9c0"
      },
      "source": [
        "df.describe(percentiles=[0.01,0.1,0.25,0.50,0.75,0.90,0.99])"
      ],
      "execution_count": 13,
      "outputs": [
        {
          "output_type": "execute_result",
          "data": {
            "text/html": [
              "<div>\n",
              "<style scoped>\n",
              "    .dataframe tbody tr th:only-of-type {\n",
              "        vertical-align: middle;\n",
              "    }\n",
              "\n",
              "    .dataframe tbody tr th {\n",
              "        vertical-align: top;\n",
              "    }\n",
              "\n",
              "    .dataframe thead th {\n",
              "        text-align: right;\n",
              "    }\n",
              "</style>\n",
              "<table border=\"1\" class=\"dataframe\">\n",
              "  <thead>\n",
              "    <tr style=\"text-align: right;\">\n",
              "      <th></th>\n",
              "      <th>age</th>\n",
              "      <th>sex</th>\n",
              "      <th>cp</th>\n",
              "      <th>trestbps</th>\n",
              "      <th>chol</th>\n",
              "      <th>fbs</th>\n",
              "      <th>restecg</th>\n",
              "      <th>thalach</th>\n",
              "      <th>exang</th>\n",
              "      <th>oldpeak</th>\n",
              "      <th>slope</th>\n",
              "      <th>ca</th>\n",
              "      <th>thal</th>\n",
              "      <th>target</th>\n",
              "    </tr>\n",
              "  </thead>\n",
              "  <tbody>\n",
              "    <tr>\n",
              "      <th>count</th>\n",
              "      <td>303.000000</td>\n",
              "      <td>303.000000</td>\n",
              "      <td>303.000000</td>\n",
              "      <td>303.000000</td>\n",
              "      <td>303.000000</td>\n",
              "      <td>303.000000</td>\n",
              "      <td>303.000000</td>\n",
              "      <td>303.000000</td>\n",
              "      <td>303.000000</td>\n",
              "      <td>303.000000</td>\n",
              "      <td>303.000000</td>\n",
              "      <td>303.000000</td>\n",
              "      <td>303.000000</td>\n",
              "      <td>303.000000</td>\n",
              "    </tr>\n",
              "    <tr>\n",
              "      <th>mean</th>\n",
              "      <td>54.366337</td>\n",
              "      <td>0.683168</td>\n",
              "      <td>0.966997</td>\n",
              "      <td>131.623762</td>\n",
              "      <td>246.264026</td>\n",
              "      <td>0.148515</td>\n",
              "      <td>0.528053</td>\n",
              "      <td>149.646865</td>\n",
              "      <td>0.326733</td>\n",
              "      <td>1.039604</td>\n",
              "      <td>1.399340</td>\n",
              "      <td>0.729373</td>\n",
              "      <td>2.313531</td>\n",
              "      <td>0.544554</td>\n",
              "    </tr>\n",
              "    <tr>\n",
              "      <th>std</th>\n",
              "      <td>9.082101</td>\n",
              "      <td>0.466011</td>\n",
              "      <td>1.032052</td>\n",
              "      <td>17.538143</td>\n",
              "      <td>51.830751</td>\n",
              "      <td>0.356198</td>\n",
              "      <td>0.525860</td>\n",
              "      <td>22.905161</td>\n",
              "      <td>0.469794</td>\n",
              "      <td>1.161075</td>\n",
              "      <td>0.616226</td>\n",
              "      <td>1.022606</td>\n",
              "      <td>0.612277</td>\n",
              "      <td>0.498835</td>\n",
              "    </tr>\n",
              "    <tr>\n",
              "      <th>min</th>\n",
              "      <td>29.000000</td>\n",
              "      <td>0.000000</td>\n",
              "      <td>0.000000</td>\n",
              "      <td>94.000000</td>\n",
              "      <td>126.000000</td>\n",
              "      <td>0.000000</td>\n",
              "      <td>0.000000</td>\n",
              "      <td>71.000000</td>\n",
              "      <td>0.000000</td>\n",
              "      <td>0.000000</td>\n",
              "      <td>0.000000</td>\n",
              "      <td>0.000000</td>\n",
              "      <td>0.000000</td>\n",
              "      <td>0.000000</td>\n",
              "    </tr>\n",
              "    <tr>\n",
              "      <th>1%</th>\n",
              "      <td>35.000000</td>\n",
              "      <td>0.000000</td>\n",
              "      <td>0.000000</td>\n",
              "      <td>100.000000</td>\n",
              "      <td>149.000000</td>\n",
              "      <td>0.000000</td>\n",
              "      <td>0.000000</td>\n",
              "      <td>95.020000</td>\n",
              "      <td>0.000000</td>\n",
              "      <td>0.000000</td>\n",
              "      <td>0.000000</td>\n",
              "      <td>0.000000</td>\n",
              "      <td>1.000000</td>\n",
              "      <td>0.000000</td>\n",
              "    </tr>\n",
              "    <tr>\n",
              "      <th>10%</th>\n",
              "      <td>42.000000</td>\n",
              "      <td>0.000000</td>\n",
              "      <td>0.000000</td>\n",
              "      <td>110.000000</td>\n",
              "      <td>188.000000</td>\n",
              "      <td>0.000000</td>\n",
              "      <td>0.000000</td>\n",
              "      <td>116.000000</td>\n",
              "      <td>0.000000</td>\n",
              "      <td>0.000000</td>\n",
              "      <td>1.000000</td>\n",
              "      <td>0.000000</td>\n",
              "      <td>2.000000</td>\n",
              "      <td>0.000000</td>\n",
              "    </tr>\n",
              "    <tr>\n",
              "      <th>25%</th>\n",
              "      <td>47.500000</td>\n",
              "      <td>0.000000</td>\n",
              "      <td>0.000000</td>\n",
              "      <td>120.000000</td>\n",
              "      <td>211.000000</td>\n",
              "      <td>0.000000</td>\n",
              "      <td>0.000000</td>\n",
              "      <td>133.500000</td>\n",
              "      <td>0.000000</td>\n",
              "      <td>0.000000</td>\n",
              "      <td>1.000000</td>\n",
              "      <td>0.000000</td>\n",
              "      <td>2.000000</td>\n",
              "      <td>0.000000</td>\n",
              "    </tr>\n",
              "    <tr>\n",
              "      <th>50%</th>\n",
              "      <td>55.000000</td>\n",
              "      <td>1.000000</td>\n",
              "      <td>1.000000</td>\n",
              "      <td>130.000000</td>\n",
              "      <td>240.000000</td>\n",
              "      <td>0.000000</td>\n",
              "      <td>1.000000</td>\n",
              "      <td>153.000000</td>\n",
              "      <td>0.000000</td>\n",
              "      <td>0.800000</td>\n",
              "      <td>1.000000</td>\n",
              "      <td>0.000000</td>\n",
              "      <td>2.000000</td>\n",
              "      <td>1.000000</td>\n",
              "    </tr>\n",
              "    <tr>\n",
              "      <th>75%</th>\n",
              "      <td>61.000000</td>\n",
              "      <td>1.000000</td>\n",
              "      <td>2.000000</td>\n",
              "      <td>140.000000</td>\n",
              "      <td>274.500000</td>\n",
              "      <td>0.000000</td>\n",
              "      <td>1.000000</td>\n",
              "      <td>166.000000</td>\n",
              "      <td>1.000000</td>\n",
              "      <td>1.600000</td>\n",
              "      <td>2.000000</td>\n",
              "      <td>1.000000</td>\n",
              "      <td>3.000000</td>\n",
              "      <td>1.000000</td>\n",
              "    </tr>\n",
              "    <tr>\n",
              "      <th>90%</th>\n",
              "      <td>66.000000</td>\n",
              "      <td>1.000000</td>\n",
              "      <td>2.000000</td>\n",
              "      <td>152.000000</td>\n",
              "      <td>308.800000</td>\n",
              "      <td>1.000000</td>\n",
              "      <td>1.000000</td>\n",
              "      <td>176.600000</td>\n",
              "      <td>1.000000</td>\n",
              "      <td>2.800000</td>\n",
              "      <td>2.000000</td>\n",
              "      <td>2.000000</td>\n",
              "      <td>3.000000</td>\n",
              "      <td>1.000000</td>\n",
              "    </tr>\n",
              "    <tr>\n",
              "      <th>99%</th>\n",
              "      <td>71.000000</td>\n",
              "      <td>1.000000</td>\n",
              "      <td>3.000000</td>\n",
              "      <td>180.000000</td>\n",
              "      <td>406.740000</td>\n",
              "      <td>1.000000</td>\n",
              "      <td>1.980000</td>\n",
              "      <td>191.960000</td>\n",
              "      <td>1.000000</td>\n",
              "      <td>4.200000</td>\n",
              "      <td>2.000000</td>\n",
              "      <td>4.000000</td>\n",
              "      <td>3.000000</td>\n",
              "      <td>1.000000</td>\n",
              "    </tr>\n",
              "    <tr>\n",
              "      <th>max</th>\n",
              "      <td>77.000000</td>\n",
              "      <td>1.000000</td>\n",
              "      <td>3.000000</td>\n",
              "      <td>200.000000</td>\n",
              "      <td>564.000000</td>\n",
              "      <td>1.000000</td>\n",
              "      <td>2.000000</td>\n",
              "      <td>202.000000</td>\n",
              "      <td>1.000000</td>\n",
              "      <td>6.200000</td>\n",
              "      <td>2.000000</td>\n",
              "      <td>4.000000</td>\n",
              "      <td>3.000000</td>\n",
              "      <td>1.000000</td>\n",
              "    </tr>\n",
              "  </tbody>\n",
              "</table>\n",
              "</div>"
            ],
            "text/plain": [
              "              age         sex          cp  ...          ca        thal      target\n",
              "count  303.000000  303.000000  303.000000  ...  303.000000  303.000000  303.000000\n",
              "mean    54.366337    0.683168    0.966997  ...    0.729373    2.313531    0.544554\n",
              "std      9.082101    0.466011    1.032052  ...    1.022606    0.612277    0.498835\n",
              "min     29.000000    0.000000    0.000000  ...    0.000000    0.000000    0.000000\n",
              "1%      35.000000    0.000000    0.000000  ...    0.000000    1.000000    0.000000\n",
              "10%     42.000000    0.000000    0.000000  ...    0.000000    2.000000    0.000000\n",
              "25%     47.500000    0.000000    0.000000  ...    0.000000    2.000000    0.000000\n",
              "50%     55.000000    1.000000    1.000000  ...    0.000000    2.000000    1.000000\n",
              "75%     61.000000    1.000000    2.000000  ...    1.000000    3.000000    1.000000\n",
              "90%     66.000000    1.000000    2.000000  ...    2.000000    3.000000    1.000000\n",
              "99%     71.000000    1.000000    3.000000  ...    4.000000    3.000000    1.000000\n",
              "max     77.000000    1.000000    3.000000  ...    4.000000    3.000000    1.000000\n",
              "\n",
              "[12 rows x 14 columns]"
            ]
          },
          "metadata": {},
          "execution_count": 13
        }
      ]
    },
    {
      "cell_type": "markdown",
      "metadata": {
        "id": "xZjY4HPdht8J"
      },
      "source": [
        "**AGE**"
      ]
    },
    {
      "cell_type": "code",
      "metadata": {
        "colab": {
          "base_uri": "https://localhost:8080/",
          "height": 298
        },
        "id": "rBFGhTLth_8n",
        "outputId": "3a48f4c2-3d0c-4679-87d5-ff792c09196a"
      },
      "source": [
        "plt.boxplot(df['age'])\n",
        "plt.title('distruibuição da Idade')"
      ],
      "execution_count": 14,
      "outputs": [
        {
          "output_type": "execute_result",
          "data": {
            "text/plain": [
              "Text(0.5, 1.0, 'distruibuição da Idade')"
            ]
          },
          "metadata": {},
          "execution_count": 14
        },
        {
          "output_type": "display_data",
          "data": {
            "image/png": "[encoded data removed]",
            "text/plain": [
              "<Figure size 432x288 with 1 Axes>"
            ]
          },
          "metadata": {
            "needs_background": "light"
          }
        }
      ]
    },
    {
      "cell_type": "code",
      "metadata": {
        "id": "3ESaGEpljEZJ"
      },
      "source": [
        "#observamos uma variável discreta com a distruibuição conforme boxplot acima. "
      ],
      "execution_count": 15,
      "outputs": []
    },
    {
      "cell_type": "markdown",
      "metadata": {
        "id": "ogyy6Tl7i73u"
      },
      "source": [
        "**SEX**"
      ]
    },
    {
      "cell_type": "code",
      "metadata": {
        "colab": {
          "base_uri": "https://localhost:8080/",
          "height": 312
        },
        "id": "Q4so_aMFieBV",
        "outputId": "dcf17ed7-cbe9-4377-dfd0-b283e6ca4d19"
      },
      "source": [
        "sns.barplot(df['sex'], y)\n",
        "plt.title('Sex')"
      ],
      "execution_count": 16,
      "outputs": [
        {
          "output_type": "execute_result",
          "data": {
            "text/plain": [
              "Text(0.5, 1.0, 'Sex')"
            ]
          },
          "metadata": {},
          "execution_count": 16
        },
        {
          "output_type": "display_data",
          "data": {
            "image/png": "[encoded data removed]",
            "text/plain": [
              "<Figure size 432x288 with 1 Axes>"
            ]
          },
          "metadata": {
            "needs_background": "light"
          }
        }
      ]
    },
    {
      "cell_type": "code",
      "metadata": {
        "id": "euZapYl0M40P"
      },
      "source": [
        "#podemos observar que mulheres apresentam uma maior tendência para desenvolver doenças no coração"
      ],
      "execution_count": 17,
      "outputs": []
    },
    {
      "cell_type": "markdown",
      "metadata": {
        "id": "jkcuGshBCyyF"
      },
      "source": [
        "**cp - chest pain type**\n",
        "\n"
      ]
    },
    {
      "cell_type": "code",
      "metadata": {
        "colab": {
          "base_uri": "https://localhost:8080/"
        },
        "id": "uEjXlQs99cbL",
        "outputId": "02ac5816-06f0-4353-f6aa-e2b8d4bf754e"
      },
      "source": [
        "df['cp'].unique()"
      ],
      "execution_count": 18,
      "outputs": [
        {
          "output_type": "execute_result",
          "data": {
            "text/plain": [
              "array([3, 2, 1, 0])"
            ]
          },
          "metadata": {},
          "execution_count": 18
        }
      ]
    },
    {
      "cell_type": "code",
      "metadata": {
        "colab": {
          "base_uri": "https://localhost:8080/",
          "height": 312
        },
        "id": "n22G_ayyjAvn",
        "outputId": "fa6b88ba-9cf5-4d77-bc0a-39a2c68b7a05"
      },
      "source": [
        "sns.barplot(df['cp'], y)\n",
        "plt.title('chest pain type')"
      ],
      "execution_count": 19,
      "outputs": [
        {
          "output_type": "execute_result",
          "data": {
            "text/plain": [
              "Text(0.5, 1.0, 'chest pain type')"
            ]
          },
          "metadata": {},
          "execution_count": 19
        },
        {
          "output_type": "display_data",
          "data": {
            "image/png": "[encoded data removed]",
            "text/plain": [
              "<Figure size 432x288 with 1 Axes>"
            ]
          },
          "metadata": {
            "needs_background": "light"
          }
        }
      ]
    },
    {
      "cell_type": "code",
      "metadata": {
        "id": "xt6McWlMBOf5"
      },
      "source": [
        "# Observa-se que, o caso típico de angina é o que menos contribui para possíveis problemas no coração"
      ],
      "execution_count": 20,
      "outputs": []
    },
    {
      "cell_type": "markdown",
      "metadata": {
        "id": "ACCkIc9QFclB"
      },
      "source": [
        "**trestbps - resting blood pressure**"
      ]
    },
    {
      "cell_type": "code",
      "metadata": {
        "colab": {
          "base_uri": "https://localhost:8080/",
          "height": 298
        },
        "id": "CAZBfoPoCqI8",
        "outputId": "8d863ea1-1e9f-454b-d15d-1c8a8f8ef55f"
      },
      "source": [
        "plt.boxplot(df['trestbps'])\n",
        "plt.title('trestbps')"
      ],
      "execution_count": 21,
      "outputs": [
        {
          "output_type": "execute_result",
          "data": {
            "text/plain": [
              "Text(0.5, 1.0, 'trestbps')"
            ]
          },
          "metadata": {},
          "execution_count": 21
        },
        {
          "output_type": "display_data",
          "data": {
            "image/png": "[encoded data removed]",
            "text/plain": [
              "<Figure size 432x288 with 1 Axes>"
            ]
          },
          "metadata": {
            "needs_background": "light"
          }
        }
      ]
    },
    {
      "cell_type": "code",
      "metadata": {
        "colab": {
          "base_uri": "https://localhost:8080/"
        },
        "id": "eq6JvVAqSQYI",
        "outputId": "7ce057fd-cc7b-4456-a5a7-6b7b83753713"
      },
      "source": [
        "Q1=df['trestbps'].quantile(0.25)\n",
        "Q3=df['trestbps'].quantile(0.75)\n",
        "IQR=Q3-Q1\n",
        "print(\"Q1\", Q1)\n",
        "print(\"Q3\", Q3)\n",
        "print(\"IQR\", IQR)\n",
        "lower_bound = Q1-1.5*IQR\n",
        "upper_bound = Q3+1.5*IQR\n",
        "print(\"Normal Range\", lower_bound, \"-\", upper_bound)"
      ],
      "execution_count": 22,
      "outputs": [
        {
          "output_type": "stream",
          "name": "stdout",
          "text": [
            "Q1 120.0\n",
            "Q3 140.0\n",
            "IQR 20.0\n",
            "Normal Range 90.0 - 170.0\n"
          ]
        }
      ]
    },
    {
      "cell_type": "code",
      "metadata": {
        "colab": {
          "base_uri": "https://localhost:8080/"
        },
        "id": "DEnQ89IxSqMN",
        "outputId": "1318c70c-1c0d-40b9-8c17-116eea7a47c1"
      },
      "source": [
        "#estudo dos outliers\n",
        "z=np.abs(stats.zscore(df['trestbps']))\n",
        "lista = list(filter(lambda x: x > 3, list(z)))\n",
        "lista"
      ],
      "execution_count": 23,
      "outputs": [
        {
          "output_type": "execute_result",
          "data": {
            "text/plain": [
              "[3.9051654719061446, 3.4482622426417127]"
            ]
          },
          "metadata": {},
          "execution_count": 23
        }
      ]
    },
    {
      "cell_type": "code",
      "metadata": {
        "id": "7MqgE_NoXGQk"
      },
      "source": [
        "#pelo z-score, apresentamos somente 2 outliers, conforme mostrado anteriormente"
      ],
      "execution_count": 24,
      "outputs": []
    },
    {
      "cell_type": "markdown",
      "metadata": {
        "id": "Ud8xl2BMLHs9"
      },
      "source": [
        "**chol - serum cholestoral in mg/dl**"
      ]
    },
    {
      "cell_type": "code",
      "metadata": {
        "colab": {
          "base_uri": "https://localhost:8080/",
          "height": 298
        },
        "id": "hHB-hO-MKFE_",
        "outputId": "174b30a7-1e59-411d-bb28-b3c983b0af8d"
      },
      "source": [
        "plt.boxplot(df['chol'])\n",
        "plt.title('serum cholestoral in mg/dl')"
      ],
      "execution_count": 25,
      "outputs": [
        {
          "output_type": "execute_result",
          "data": {
            "text/plain": [
              "Text(0.5, 1.0, 'serum cholestoral in mg/dl')"
            ]
          },
          "metadata": {},
          "execution_count": 25
        },
        {
          "output_type": "display_data",
          "data": {
            "image/png": "[encoded data removed]",
            "text/plain": [
              "<Figure size 432x288 with 1 Axes>"
            ]
          },
          "metadata": {
            "needs_background": "light"
          }
        }
      ]
    },
    {
      "cell_type": "code",
      "metadata": {
        "colab": {
          "base_uri": "https://localhost:8080/"
        },
        "id": "tzX-oes4XPD1",
        "outputId": "bfa2a7a0-5196-47a6-bb53-6438fd75570b"
      },
      "source": [
        "Q1=df['chol'].quantile(0.25)\n",
        "Q3=df['chol'].quantile(0.75)\n",
        "IQR=Q3-Q1\n",
        "print(\"Q1\", Q1)\n",
        "print(\"Q3\", Q3)\n",
        "print(\"IQR\", IQR)\n",
        "lower_bound = Q1-1.5*IQR\n",
        "upper_bound = Q3+1.5*IQR\n",
        "print(\"Normal Range\", lower_bound, \"-\", upper_bound)"
      ],
      "execution_count": 26,
      "outputs": [
        {
          "output_type": "stream",
          "name": "stdout",
          "text": [
            "Q1 211.0\n",
            "Q3 274.5\n",
            "IQR 63.5\n",
            "Normal Range 115.75 - 369.75\n"
          ]
        }
      ]
    },
    {
      "cell_type": "code",
      "metadata": {
        "colab": {
          "base_uri": "https://localhost:8080/"
        },
        "id": "RCLls0qbXUMK",
        "outputId": "4f90cd0a-b615-44c3-ec1b-39a2e3f61e77"
      },
      "source": [
        "#estudo dos outliers\n",
        "z=np.abs(stats.zscore(df['chol']))\n",
        "lista = list(filter(lambda x: x > 3, list(z)))\n",
        "lista"
      ],
      "execution_count": 27,
      "outputs": [
        {
          "output_type": "execute_result",
          "data": {
            "text/plain": [
              "[3.2995550358497527, 6.14040093405368, 3.1063002128426827, 3.1449511774440966]"
            ]
          },
          "metadata": {},
          "execution_count": 27
        }
      ]
    },
    {
      "cell_type": "code",
      "metadata": {
        "id": "taDRbHMPXcRs"
      },
      "source": [
        "#pelo z-score, apresentamos 4 outliers, conforme mostrado anteriormente"
      ],
      "execution_count": 28,
      "outputs": []
    },
    {
      "cell_type": "markdown",
      "metadata": {
        "id": "2xmbwARuMqPG"
      },
      "source": [
        "**fbs - fasting blood sugar**"
      ]
    },
    {
      "cell_type": "code",
      "metadata": {
        "colab": {
          "base_uri": "https://localhost:8080/",
          "height": 312
        },
        "id": "cACbbb8jLV68",
        "outputId": "01fe1a8d-abdb-45b9-94fc-c7b6a5f495d9"
      },
      "source": [
        "sns.barplot(df['fbs'], y)\n",
        "plt.title('fasting blood sugar')"
      ],
      "execution_count": 29,
      "outputs": [
        {
          "output_type": "execute_result",
          "data": {
            "text/plain": [
              "Text(0.5, 1.0, 'fasting blood sugar')"
            ]
          },
          "metadata": {},
          "execution_count": 29
        },
        {
          "output_type": "display_data",
          "data": {
            "image/png": "[encoded data removed]",
            "text/plain": [
              "<Figure size 432x288 with 1 Axes>"
            ]
          },
          "metadata": {
            "needs_background": "light"
          }
        }
      ]
    },
    {
      "cell_type": "markdown",
      "metadata": {
        "id": "e6I54WfGNPVH"
      },
      "source": [
        "**restecg - resting electrocardiographic results**"
      ]
    },
    {
      "cell_type": "code",
      "metadata": {
        "colab": {
          "base_uri": "https://localhost:8080/"
        },
        "id": "GLLEMfXA9tnp",
        "outputId": "a245f72c-9ff8-4f0b-d7ea-c270fa43bec4"
      },
      "source": [
        "df['restecg'].unique()"
      ],
      "execution_count": 30,
      "outputs": [
        {
          "output_type": "execute_result",
          "data": {
            "text/plain": [
              "array([0, 1, 2])"
            ]
          },
          "metadata": {},
          "execution_count": 30
        }
      ]
    },
    {
      "cell_type": "code",
      "metadata": {
        "colab": {
          "base_uri": "https://localhost:8080/",
          "height": 312
        },
        "id": "djxK_D1jMvmT",
        "outputId": "3e6933e1-eb1e-4354-95a1-bda2fc95fd44"
      },
      "source": [
        "sns.barplot(df['restecg'], y)\n",
        "plt.title('resting electrocardiographic results')"
      ],
      "execution_count": 31,
      "outputs": [
        {
          "output_type": "execute_result",
          "data": {
            "text/plain": [
              "Text(0.5, 1.0, 'resting electrocardiographic results')"
            ]
          },
          "metadata": {},
          "execution_count": 31
        },
        {
          "output_type": "display_data",
          "data": {
            "image/png": "[encoded data removed]",
            "text/plain": [
              "<Figure size 432x288 with 1 Axes>"
            ]
          },
          "metadata": {
            "needs_background": "light"
          }
        }
      ]
    },
    {
      "cell_type": "markdown",
      "metadata": {
        "id": "QPQEcNpGOYje"
      },
      "source": [
        "**thalach - maximum heart rate achieved**"
      ]
    },
    {
      "cell_type": "code",
      "metadata": {
        "colab": {
          "base_uri": "https://localhost:8080/",
          "height": 298
        },
        "id": "WUaSDckYNlQr",
        "outputId": "471e5aa2-70cd-400e-da25-93bc09bddf29"
      },
      "source": [
        "plt.boxplot(df['thalach'])\n",
        "plt.title(' maximum heart rate achieved')"
      ],
      "execution_count": 32,
      "outputs": [
        {
          "output_type": "execute_result",
          "data": {
            "text/plain": [
              "Text(0.5, 1.0, ' maximum heart rate achieved')"
            ]
          },
          "metadata": {},
          "execution_count": 32
        },
        {
          "output_type": "display_data",
          "data": {
            "image/png": "[encoded data removed]",
            "text/plain": [
              "<Figure size 432x288 with 1 Axes>"
            ]
          },
          "metadata": {
            "needs_background": "light"
          }
        }
      ]
    },
    {
      "cell_type": "code",
      "metadata": {
        "colab": {
          "base_uri": "https://localhost:8080/"
        },
        "id": "8JrMMJz4YK6m",
        "outputId": "4b591869-26b4-4415-951b-0b22f468029f"
      },
      "source": [
        "Q1=df['thalach'].quantile(0.25)\n",
        "Q3=df['thalach'].quantile(0.75)\n",
        "IQR=Q3-Q1\n",
        "print(\"Q1\", Q1)\n",
        "print(\"Q3\", Q3)\n",
        "print(\"IQR\", IQR)\n",
        "lower_bound = Q1-1.5*IQR\n",
        "upper_bound = Q3+1.5*IQR\n",
        "print(\"Normal Range\", lower_bound, \"-\", upper_bound)"
      ],
      "execution_count": 33,
      "outputs": [
        {
          "output_type": "stream",
          "name": "stdout",
          "text": [
            "Q1 133.5\n",
            "Q3 166.0\n",
            "IQR 32.5\n",
            "Normal Range 84.75 - 214.75\n"
          ]
        }
      ]
    },
    {
      "cell_type": "code",
      "metadata": {
        "colab": {
          "base_uri": "https://localhost:8080/"
        },
        "id": "zjq3K0DMYQdq",
        "outputId": "a67fe491-c9cf-44d3-e5e7-53397573683f"
      },
      "source": [
        "#estudo dos outliers\n",
        "z=np.abs(stats.zscore(df['thalach']))\n",
        "lista = list(filter(lambda x: x > 3, list(z)))\n",
        "lista"
      ],
      "execution_count": 34,
      "outputs": [
        {
          "output_type": "execute_result",
          "data": {
            "text/plain": [
              "[3.439267103184409]"
            ]
          },
          "metadata": {},
          "execution_count": 34
        }
      ]
    },
    {
      "cell_type": "code",
      "metadata": {
        "id": "h96FmLGQYU7e"
      },
      "source": [
        "#pelo z-score, apresentamos 1 outlier, conforme mostrado anteriormente"
      ],
      "execution_count": 35,
      "outputs": []
    },
    {
      "cell_type": "markdown",
      "metadata": {
        "id": "MHWUH2RROv2L"
      },
      "source": [
        "**exang - exercise induced angina**"
      ]
    },
    {
      "cell_type": "code",
      "metadata": {
        "colab": {
          "base_uri": "https://localhost:8080/",
          "height": 312
        },
        "id": "9DH0kImXOePK",
        "outputId": "b0ab33f2-a69a-4b3c-cd27-8d9cee9db3fa"
      },
      "source": [
        "sns.barplot(df['exang'],y)\n",
        "plt.title('exercise induced angina')"
      ],
      "execution_count": 36,
      "outputs": [
        {
          "output_type": "execute_result",
          "data": {
            "text/plain": [
              "Text(0.5, 1.0, 'exercise induced angina')"
            ]
          },
          "metadata": {},
          "execution_count": 36
        },
        {
          "output_type": "display_data",
          "data": {
            "image/png": "[encoded data removed]",
            "text/plain": [
              "<Figure size 432x288 with 1 Axes>"
            ]
          },
          "metadata": {
            "needs_background": "light"
          }
        }
      ]
    },
    {
      "cell_type": "code",
      "metadata": {
        "id": "B3QDtECpO3ty"
      },
      "source": [
        "# na maioria dos casos, a angina não é induzida pela prática de exercícios. "
      ],
      "execution_count": 37,
      "outputs": []
    },
    {
      "cell_type": "markdown",
      "metadata": {
        "id": "zmKJiZS0Phmd"
      },
      "source": [
        "**oldpeak - ST depression induced by exercise relative to rest**"
      ]
    },
    {
      "cell_type": "code",
      "metadata": {
        "colab": {
          "base_uri": "https://localhost:8080/",
          "height": 298
        },
        "id": "HgjDf_nHPldl",
        "outputId": "6c5c2ed2-cd06-42da-d95f-78b7cd0e5828"
      },
      "source": [
        "plt.boxplot(df['oldpeak'])\n",
        "plt.title('ST depression induced by exercise relative to rest')"
      ],
      "execution_count": 38,
      "outputs": [
        {
          "output_type": "execute_result",
          "data": {
            "text/plain": [
              "Text(0.5, 1.0, 'ST depression induced by exercise relative to rest')"
            ]
          },
          "metadata": {},
          "execution_count": 38
        },
        {
          "output_type": "display_data",
          "data": {
            "image/png": "[encoded data removed]",
            "text/plain": [
              "<Figure size 432x288 with 1 Axes>"
            ]
          },
          "metadata": {
            "needs_background": "light"
          }
        }
      ]
    },
    {
      "cell_type": "code",
      "metadata": {
        "colab": {
          "base_uri": "https://localhost:8080/"
        },
        "id": "j25ol9UvYlLf",
        "outputId": "20c73183-6b48-49b7-8038-8dd44f071d54"
      },
      "source": [
        "Q1=df['oldpeak'].quantile(0.25)\n",
        "Q3=df['oldpeak'].quantile(0.75)\n",
        "IQR=Q3-Q1\n",
        "print(\"Q1\", Q1)\n",
        "print(\"Q3\", Q3)\n",
        "print(\"IQR\", IQR)\n",
        "lower_bound = Q1-1.5*IQR\n",
        "upper_bound = Q3+1.5*IQR\n",
        "print(\"Normal Range\", lower_bound, \"-\", upper_bound)"
      ],
      "execution_count": 39,
      "outputs": [
        {
          "output_type": "stream",
          "name": "stdout",
          "text": [
            "Q1 0.0\n",
            "Q3 1.6\n",
            "IQR 1.6\n",
            "Normal Range -2.4000000000000004 - 4.0\n"
          ]
        }
      ]
    },
    {
      "cell_type": "code",
      "metadata": {
        "colab": {
          "base_uri": "https://localhost:8080/"
        },
        "id": "cFw-KwiIPqvK",
        "outputId": "959642da-b495-45fb-ee55-145c366a1614"
      },
      "source": [
        "#estudo dos outliers\n",
        "z=np.abs(stats.zscore(df['oldpeak']))\n",
        "lista = list(filter(lambda x: x > 3, list(z)))\n",
        "lista"
      ],
      "execution_count": 40,
      "outputs": [
        {
          "output_type": "execute_result",
          "data": {
            "text/plain": [
              "[4.451850726692426, 3.9342333935428453]"
            ]
          },
          "metadata": {},
          "execution_count": 40
        }
      ]
    },
    {
      "cell_type": "code",
      "metadata": {
        "id": "M9k85MW7YxE6"
      },
      "source": [
        "#pelo z-score, apresentamos 2 outliers, conforme mostrado anteriormente"
      ],
      "execution_count": 41,
      "outputs": []
    },
    {
      "cell_type": "markdown",
      "metadata": {
        "id": "Q9vbKCXuZTUR"
      },
      "source": [
        "**slope - the slope of the peak exercise ST segment**"
      ]
    },
    {
      "cell_type": "code",
      "metadata": {
        "colab": {
          "base_uri": "https://localhost:8080/"
        },
        "id": "LLnXdeKU98nR",
        "outputId": "659dfe28-8bfb-44f8-cd29-b689c12138ba"
      },
      "source": [
        "df['slope'].unique()"
      ],
      "execution_count": 42,
      "outputs": [
        {
          "output_type": "execute_result",
          "data": {
            "text/plain": [
              "array([0, 2, 1])"
            ]
          },
          "metadata": {},
          "execution_count": 42
        }
      ]
    },
    {
      "cell_type": "code",
      "metadata": {
        "colab": {
          "base_uri": "https://localhost:8080/",
          "height": 312
        },
        "id": "hOH9nhp5ZVUx",
        "outputId": "56edde71-f5cf-4b7a-867f-1bcea2e04171"
      },
      "source": [
        "sns.barplot(df['slope'],y)\n",
        "plt.title(' the slope of the peak exercise ST segment')"
      ],
      "execution_count": 43,
      "outputs": [
        {
          "output_type": "execute_result",
          "data": {
            "text/plain": [
              "Text(0.5, 1.0, ' the slope of the peak exercise ST segment')"
            ]
          },
          "metadata": {},
          "execution_count": 43
        },
        {
          "output_type": "display_data",
          "data": {
            "image/png": "[encoded data removed]",
            "text/plain": [
              "<Figure size 432x288 with 1 Axes>"
            ]
          },
          "metadata": {
            "needs_background": "light"
          }
        }
      ]
    },
    {
      "cell_type": "code",
      "metadata": {
        "id": "42abuMGrZdu5"
      },
      "source": [
        "# Nota-se que para slope = 2 a chance de apresentar uma doença no coralçao é muito maior"
      ],
      "execution_count": 44,
      "outputs": []
    },
    {
      "cell_type": "markdown",
      "metadata": {
        "id": "fsvO97ugaRg6"
      },
      "source": [
        "**ca - number of major vessels (0-3) colored by flourosopy**"
      ]
    },
    {
      "cell_type": "code",
      "metadata": {
        "colab": {
          "base_uri": "https://localhost:8080/"
        },
        "id": "YAbKN0Lo-AZK",
        "outputId": "edb69558-79a1-4b34-a45e-79b31c1d23a0"
      },
      "source": [
        "df['ca'].unique()"
      ],
      "execution_count": 45,
      "outputs": [
        {
          "output_type": "execute_result",
          "data": {
            "text/plain": [
              "array([0, 2, 1, 3, 4])"
            ]
          },
          "metadata": {},
          "execution_count": 45
        }
      ]
    },
    {
      "cell_type": "code",
      "metadata": {
        "colab": {
          "base_uri": "https://localhost:8080/",
          "height": 312
        },
        "id": "yIKHZnmzaNT2",
        "outputId": "40b25435-1752-4e64-ebec-a48bfa628257"
      },
      "source": [
        "sns.barplot(df['ca'],y)\n",
        "plt.title('number of major vessels (0-3) colored by flourosopy')"
      ],
      "execution_count": 46,
      "outputs": [
        {
          "output_type": "execute_result",
          "data": {
            "text/plain": [
              "Text(0.5, 1.0, 'number of major vessels (0-3) colored by flourosopy')"
            ]
          },
          "metadata": {},
          "execution_count": 46
        },
        {
          "output_type": "display_data",
          "data": {
            "image/png": "[encoded data removed]",
            "text/plain": [
              "<Figure size 432x288 with 1 Axes>"
            ]
          },
          "metadata": {
            "needs_background": "light"
          }
        }
      ]
    },
    {
      "cell_type": "markdown",
      "metadata": {
        "id": "affdWEL38O59"
      },
      "source": [
        "**thal - thalium stress result**"
      ]
    },
    {
      "cell_type": "code",
      "metadata": {
        "colab": {
          "base_uri": "https://localhost:8080/"
        },
        "id": "GLAZkx3v8ZDF",
        "outputId": "f0b0d167-1037-4f58-9323-230aa63c4f80"
      },
      "source": [
        "df['thal'].unique()"
      ],
      "execution_count": 47,
      "outputs": [
        {
          "output_type": "execute_result",
          "data": {
            "text/plain": [
              "array([1, 2, 3, 0])"
            ]
          },
          "metadata": {},
          "execution_count": 47
        }
      ]
    },
    {
      "cell_type": "code",
      "metadata": {
        "colab": {
          "base_uri": "https://localhost:8080/",
          "height": 312
        },
        "id": "oMpijfRFaW6h",
        "outputId": "dea81c6f-b006-4316-b06a-acceae8e1bb3"
      },
      "source": [
        "sns.barplot(df['thal'],y)\n",
        "plt.title('Thalium stress result')"
      ],
      "execution_count": 48,
      "outputs": [
        {
          "output_type": "execute_result",
          "data": {
            "text/plain": [
              "Text(0.5, 1.0, 'Thalium stress result')"
            ]
          },
          "metadata": {},
          "execution_count": 48
        },
        {
          "output_type": "display_data",
          "data": {
            "image/png": "[encoded data removed]",
            "text/plain": [
              "<Figure size 432x288 with 1 Axes>"
            ]
          },
          "metadata": {
            "needs_background": "light"
          }
        }
      ]
    },
    {
      "cell_type": "markdown",
      "metadata": {
        "id": "kyDaDxuoDPA7"
      },
      "source": [
        "# Train Test Split"
      ]
    },
    {
      "cell_type": "code",
      "metadata": {
        "id": "woewZm6T8bjZ"
      },
      "source": [
        "X = df.drop(['target'], axis=1)\n",
        "y = df['target']"
      ],
      "execution_count": 49,
      "outputs": []
    },
    {
      "cell_type": "code",
      "metadata": {
        "id": "-O9Zlgh1DvCz"
      },
      "source": [
        "X_train, X_test, y_train, y_test = train_test_split(X, y, test_size=0.2, random_state = 12)"
      ],
      "execution_count": 50,
      "outputs": []
    },
    {
      "cell_type": "code",
      "metadata": {
        "colab": {
          "base_uri": "https://localhost:8080/"
        },
        "id": "VvQmbZoeDzBz",
        "outputId": "a5de85fe-b91d-4505-e243-ba9c7a27a54b"
      },
      "source": [
        "X_train.shape"
      ],
      "execution_count": 51,
      "outputs": [
        {
          "output_type": "execute_result",
          "data": {
            "text/plain": [
              "(242, 13)"
            ]
          },
          "metadata": {},
          "execution_count": 51
        }
      ]
    },
    {
      "cell_type": "code",
      "metadata": {
        "colab": {
          "base_uri": "https://localhost:8080/"
        },
        "id": "bDIS2X34EH88",
        "outputId": "44d62b60-8690-4aed-9ec5-0c924af5a0db"
      },
      "source": [
        "y_train.shape"
      ],
      "execution_count": 52,
      "outputs": [
        {
          "output_type": "execute_result",
          "data": {
            "text/plain": [
              "(242,)"
            ]
          },
          "metadata": {},
          "execution_count": 52
        }
      ]
    },
    {
      "cell_type": "code",
      "metadata": {
        "colab": {
          "base_uri": "https://localhost:8080/"
        },
        "id": "Z5mzpMqRENKj",
        "outputId": "7241f60d-fcde-4363-c4d6-4c8652269af8"
      },
      "source": [
        "X_test.shape"
      ],
      "execution_count": 53,
      "outputs": [
        {
          "output_type": "execute_result",
          "data": {
            "text/plain": [
              "(61, 13)"
            ]
          },
          "metadata": {},
          "execution_count": 53
        }
      ]
    },
    {
      "cell_type": "code",
      "metadata": {
        "colab": {
          "base_uri": "https://localhost:8080/"
        },
        "id": "RmKL87_CEPST",
        "outputId": "9a8a63db-d574-490c-d1df-208d650a3695"
      },
      "source": [
        "y_test.shape"
      ],
      "execution_count": 54,
      "outputs": [
        {
          "output_type": "execute_result",
          "data": {
            "text/plain": [
              "(61,)"
            ]
          },
          "metadata": {},
          "execution_count": 54
        }
      ]
    },
    {
      "cell_type": "code",
      "metadata": {
        "colab": {
          "base_uri": "https://localhost:8080/",
          "height": 203
        },
        "id": "4EvMk3TMElmU",
        "outputId": "d08d2403-1920-44bf-f5d0-bb9fae20588b"
      },
      "source": [
        "# Aplica a Normalização (StandardScaler) nos dados (IMPORTANTE QUE NÃO SEJA NOS CATEGÓRICOS)\n",
        "\n",
        "scaler = StandardScaler()\n",
        "out_cols\n",
        "                 \n",
        "scaler.fit(X_train[out_cols])\n",
        "X_train = X_train.reset_index().drop('index',axis=1)\n",
        "X_test = X_test.reset_index().drop('index',axis=1)\n",
        "y_train = y_train.reset_index().drop('index',axis=1)\n",
        "y_test = y_test.reset_index().drop('index',axis=1)\n",
        "\n",
        "\n",
        "X_train[out_cols] = pd.DataFrame(scaler.transform(X_train[out_cols]),columns=out_cols)\n",
        "X_train.head()"
      ],
      "execution_count": 55,
      "outputs": [
        {
          "output_type": "execute_result",
          "data": {
            "text/html": [
              "<div>\n",
              "<style scoped>\n",
              "    .dataframe tbody tr th:only-of-type {\n",
              "        vertical-align: middle;\n",
              "    }\n",
              "\n",
              "    .dataframe tbody tr th {\n",
              "        vertical-align: top;\n",
              "    }\n",
              "\n",
              "    .dataframe thead th {\n",
              "        text-align: right;\n",
              "    }\n",
              "</style>\n",
              "<table border=\"1\" class=\"dataframe\">\n",
              "  <thead>\n",
              "    <tr style=\"text-align: right;\">\n",
              "      <th></th>\n",
              "      <th>age</th>\n",
              "      <th>sex</th>\n",
              "      <th>cp</th>\n",
              "      <th>trestbps</th>\n",
              "      <th>chol</th>\n",
              "      <th>fbs</th>\n",
              "      <th>restecg</th>\n",
              "      <th>thalach</th>\n",
              "      <th>exang</th>\n",
              "      <th>oldpeak</th>\n",
              "      <th>slope</th>\n",
              "      <th>ca</th>\n",
              "      <th>thal</th>\n",
              "    </tr>\n",
              "  </thead>\n",
              "  <tbody>\n",
              "    <tr>\n",
              "      <th>0</th>\n",
              "      <td>2.442208</td>\n",
              "      <td>1</td>\n",
              "      <td>0</td>\n",
              "      <td>-0.370126</td>\n",
              "      <td>1.166834</td>\n",
              "      <td>0</td>\n",
              "      <td>0</td>\n",
              "      <td>0.562932</td>\n",
              "      <td>1</td>\n",
              "      <td>-0.849325</td>\n",
              "      <td>2</td>\n",
              "      <td>3</td>\n",
              "      <td>2</td>\n",
              "    </tr>\n",
              "    <tr>\n",
              "      <th>1</th>\n",
              "      <td>-0.016343</td>\n",
              "      <td>1</td>\n",
              "      <td>0</td>\n",
              "      <td>-1.191873</td>\n",
              "      <td>-0.140732</td>\n",
              "      <td>0</td>\n",
              "      <td>1</td>\n",
              "      <td>-1.056172</td>\n",
              "      <td>1</td>\n",
              "      <td>1.593386</td>\n",
              "      <td>1</td>\n",
              "      <td>1</td>\n",
              "      <td>3</td>\n",
              "    </tr>\n",
              "    <tr>\n",
              "      <th>2</th>\n",
              "      <td>1.159486</td>\n",
              "      <td>1</td>\n",
              "      <td>0</td>\n",
              "      <td>-0.644041</td>\n",
              "      <td>-1.387948</td>\n",
              "      <td>0</td>\n",
              "      <td>1</td>\n",
              "      <td>-0.426520</td>\n",
              "      <td>0</td>\n",
              "      <td>-0.500366</td>\n",
              "      <td>2</td>\n",
              "      <td>0</td>\n",
              "      <td>3</td>\n",
              "    </tr>\n",
              "    <tr>\n",
              "      <th>3</th>\n",
              "      <td>1.052592</td>\n",
              "      <td>1</td>\n",
              "      <td>0</td>\n",
              "      <td>-0.205776</td>\n",
              "      <td>0.342062</td>\n",
              "      <td>0</td>\n",
              "      <td>1</td>\n",
              "      <td>-2.000649</td>\n",
              "      <td>1</td>\n",
              "      <td>-0.674846</td>\n",
              "      <td>1</td>\n",
              "      <td>1</td>\n",
              "      <td>3</td>\n",
              "    </tr>\n",
              "    <tr>\n",
              "      <th>4</th>\n",
              "      <td>-0.764598</td>\n",
              "      <td>1</td>\n",
              "      <td>2</td>\n",
              "      <td>0.342055</td>\n",
              "      <td>0.221363</td>\n",
              "      <td>0</td>\n",
              "      <td>0</td>\n",
              "      <td>0.293082</td>\n",
              "      <td>0</td>\n",
              "      <td>-0.849325</td>\n",
              "      <td>2</td>\n",
              "      <td>0</td>\n",
              "      <td>2</td>\n",
              "    </tr>\n",
              "  </tbody>\n",
              "</table>\n",
              "</div>"
            ],
            "text/plain": [
              "        age  sex  cp  trestbps      chol  ...  exang   oldpeak  slope  ca  thal\n",
              "0  2.442208    1   0 -0.370126  1.166834  ...      1 -0.849325      2   3     2\n",
              "1 -0.016343    1   0 -1.191873 -0.140732  ...      1  1.593386      1   1     3\n",
              "2  1.159486    1   0 -0.644041 -1.387948  ...      0 -0.500366      2   0     3\n",
              "3  1.052592    1   0 -0.205776  0.342062  ...      1 -0.674846      1   1     3\n",
              "4 -0.764598    1   2  0.342055  0.221363  ...      0 -0.849325      2   0     2\n",
              "\n",
              "[5 rows x 13 columns]"
            ]
          },
          "metadata": {},
          "execution_count": 55
        }
      ]
    },
    {
      "cell_type": "code",
      "metadata": {
        "colab": {
          "base_uri": "https://localhost:8080/"
        },
        "id": "VlyUTPN7FSnQ",
        "outputId": "e7f42352-6688-4a70-f1e4-cd4d7d0ff121"
      },
      "source": [
        "X_train.shape"
      ],
      "execution_count": 56,
      "outputs": [
        {
          "output_type": "execute_result",
          "data": {
            "text/plain": [
              "(242, 13)"
            ]
          },
          "metadata": {},
          "execution_count": 56
        }
      ]
    },
    {
      "cell_type": "code",
      "metadata": {
        "colab": {
          "base_uri": "https://localhost:8080/",
          "height": 203
        },
        "id": "WOCzqrOqFLrb",
        "outputId": "64e52ca9-e704-4146-8389-cc979402920b"
      },
      "source": [
        "X_test[out_cols] = pd.DataFrame(scaler.transform(X_train[out_cols]),columns=out_cols)\n",
        "X_test.head()"
      ],
      "execution_count": 57,
      "outputs": [
        {
          "output_type": "execute_result",
          "data": {
            "text/html": [
              "<div>\n",
              "<style scoped>\n",
              "    .dataframe tbody tr th:only-of-type {\n",
              "        vertical-align: middle;\n",
              "    }\n",
              "\n",
              "    .dataframe tbody tr th {\n",
              "        vertical-align: top;\n",
              "    }\n",
              "\n",
              "    .dataframe thead th {\n",
              "        text-align: right;\n",
              "    }\n",
              "</style>\n",
              "<table border=\"1\" class=\"dataframe\">\n",
              "  <thead>\n",
              "    <tr style=\"text-align: right;\">\n",
              "      <th></th>\n",
              "      <th>age</th>\n",
              "      <th>sex</th>\n",
              "      <th>cp</th>\n",
              "      <th>trestbps</th>\n",
              "      <th>chol</th>\n",
              "      <th>fbs</th>\n",
              "      <th>restecg</th>\n",
              "      <th>thalach</th>\n",
              "      <th>exang</th>\n",
              "      <th>oldpeak</th>\n",
              "      <th>slope</th>\n",
              "      <th>ca</th>\n",
              "      <th>thal</th>\n",
              "    </tr>\n",
              "  </thead>\n",
              "  <tbody>\n",
              "    <tr>\n",
              "      <th>0</th>\n",
              "      <td>-5.527538</td>\n",
              "      <td>1</td>\n",
              "      <td>2</td>\n",
              "      <td>-7.238295</td>\n",
              "      <td>-4.925078</td>\n",
              "      <td>0</td>\n",
              "      <td>1</td>\n",
              "      <td>-6.697719</td>\n",
              "      <td>0</td>\n",
              "      <td>-1.590274</td>\n",
              "      <td>2</td>\n",
              "      <td>4</td>\n",
              "      <td>2</td>\n",
              "    </tr>\n",
              "    <tr>\n",
              "      <th>1</th>\n",
              "      <td>-5.790341</td>\n",
              "      <td>0</td>\n",
              "      <td>2</td>\n",
              "      <td>-7.283313</td>\n",
              "      <td>-4.951381</td>\n",
              "      <td>0</td>\n",
              "      <td>0</td>\n",
              "      <td>-6.770538</td>\n",
              "      <td>0</td>\n",
              "      <td>0.540740</td>\n",
              "      <td>1</td>\n",
              "      <td>0</td>\n",
              "      <td>3</td>\n",
              "    </tr>\n",
              "    <tr>\n",
              "      <th>2</th>\n",
              "      <td>-5.664653</td>\n",
              "      <td>0</td>\n",
              "      <td>1</td>\n",
              "      <td>-7.253301</td>\n",
              "      <td>-4.976471</td>\n",
              "      <td>0</td>\n",
              "      <td>0</td>\n",
              "      <td>-6.742220</td>\n",
              "      <td>0</td>\n",
              "      <td>-1.285843</td>\n",
              "      <td>1</td>\n",
              "      <td>0</td>\n",
              "      <td>2</td>\n",
              "    </tr>\n",
              "    <tr>\n",
              "      <th>3</th>\n",
              "      <td>-5.676079</td>\n",
              "      <td>1</td>\n",
              "      <td>0</td>\n",
              "      <td>-7.229291</td>\n",
              "      <td>-4.941669</td>\n",
              "      <td>0</td>\n",
              "      <td>0</td>\n",
              "      <td>-6.813016</td>\n",
              "      <td>1</td>\n",
              "      <td>-1.438059</td>\n",
              "      <td>0</td>\n",
              "      <td>1</td>\n",
              "      <td>2</td>\n",
              "    </tr>\n",
              "    <tr>\n",
              "      <th>4</th>\n",
              "      <td>-5.870325</td>\n",
              "      <td>1</td>\n",
              "      <td>0</td>\n",
              "      <td>-7.199279</td>\n",
              "      <td>-4.944097</td>\n",
              "      <td>0</td>\n",
              "      <td>1</td>\n",
              "      <td>-6.709856</td>\n",
              "      <td>1</td>\n",
              "      <td>-1.590274</td>\n",
              "      <td>1</td>\n",
              "      <td>1</td>\n",
              "      <td>3</td>\n",
              "    </tr>\n",
              "  </tbody>\n",
              "</table>\n",
              "</div>"
            ],
            "text/plain": [
              "        age  sex  cp  trestbps      chol  ...  exang   oldpeak  slope  ca  thal\n",
              "0 -5.527538    1   2 -7.238295 -4.925078  ...      0 -1.590274      2   4     2\n",
              "1 -5.790341    0   2 -7.283313 -4.951381  ...      0  0.540740      1   0     3\n",
              "2 -5.664653    0   1 -7.253301 -4.976471  ...      0 -1.285843      1   0     2\n",
              "3 -5.676079    1   0 -7.229291 -4.941669  ...      1 -1.438059      0   1     2\n",
              "4 -5.870325    1   0 -7.199279 -4.944097  ...      1 -1.590274      1   1     3\n",
              "\n",
              "[5 rows x 13 columns]"
            ]
          },
          "metadata": {},
          "execution_count": 57
        }
      ]
    },
    {
      "cell_type": "code",
      "metadata": {
        "colab": {
          "base_uri": "https://localhost:8080/"
        },
        "id": "fYylHqOPFUtB",
        "outputId": "073b7fbc-05ac-4207-c9a0-b52034a28b48"
      },
      "source": [
        "X_test.shape"
      ],
      "execution_count": 58,
      "outputs": [
        {
          "output_type": "execute_result",
          "data": {
            "text/plain": [
              "(61, 13)"
            ]
          },
          "metadata": {},
          "execution_count": 58
        }
      ]
    },
    {
      "cell_type": "markdown",
      "metadata": {
        "id": "YC9l6Ty1EY1U"
      },
      "source": [
        "# Seleção do modelo"
      ]
    },
    {
      "cell_type": "markdown",
      "metadata": {
        "id": "_UrXnSGoHM6S"
      },
      "source": [
        "## Regressão Logística\n"
      ]
    },
    {
      "cell_type": "code",
      "metadata": {
        "colab": {
          "base_uri": "https://localhost:8080/"
        },
        "id": "H_MWkpGXHPbM",
        "outputId": "4a6b96cd-51fe-4144-9116-f2a1309b9a82"
      },
      "source": [
        "reglog = LogisticRegression()\n",
        "\n",
        "reglog.fit(X_train,y_train)\n",
        "\n"
      ],
      "execution_count": 59,
      "outputs": [
        {
          "output_type": "execute_result",
          "data": {
            "text/plain": [
              "LogisticRegression(C=1.0, class_weight=None, dual=False, fit_intercept=True,\n",
              "                   intercept_scaling=1, l1_ratio=None, max_iter=100,\n",
              "                   multi_class='auto', n_jobs=None, penalty='l2',\n",
              "                   random_state=None, solver='lbfgs', tol=0.0001, verbose=0,\n",
              "                   warm_start=False)"
            ]
          },
          "metadata": {},
          "execution_count": 59
        }
      ]
    },
    {
      "cell_type": "code",
      "metadata": {
        "colab": {
          "base_uri": "https://localhost:8080/"
        },
        "id": "Nkq0zellHleK",
        "outputId": "25cca482-f360-4e0c-a24e-5c2e9b84edae"
      },
      "source": [
        "y_pred = reglog.predict(X_test)\n",
        "f1 = round(f1_score(y_test, y_pred, average='macro')*100, 2)\n",
        "accuracy = round(accuracy_score(y_test, y_pred)*100,2)\n",
        "precision = round(precision_score(y_test, y_pred)*100,2)\n",
        "recall = round(recall_score(y_test, y_pred)*100,2)\n",
        "\n",
        "print(f\"F1 Score: {f1}%\")\n",
        "print(f\"Accuracy Score: {accuracy}%\")\n",
        "print(f\"Precision Score: {precision}%\")\n",
        "print(f\"Recall Score: {recall}%\")\n",
        "\n",
        "metricas = {}\n",
        "metricas[\"LogisticRegression\"]={\n",
        "                            \"accuracy\":accuracy,\n",
        "                            \"precision\":precision,\n",
        "                            \"recall\":recall,\n",
        "                            \"f1\":f1\n",
        "                            }\n"
      ],
      "execution_count": 60,
      "outputs": [
        {
          "output_type": "stream",
          "name": "stdout",
          "text": [
            "F1 Score: 78.1%\n",
            "Accuracy Score: 78.69%\n",
            "Precision Score: 70.73%\n",
            "Recall Score: 96.67%\n"
          ]
        }
      ]
    },
    {
      "cell_type": "code",
      "metadata": {
        "colab": {
          "base_uri": "https://localhost:8080/",
          "height": 279
        },
        "id": "wQIO8coyJJok",
        "outputId": "e4fbb0b4-fadc-4bc3-f550-9cd6bbaff820"
      },
      "source": [
        "plot_confusion_matrix(reglog, X_test, y_test, values_format='d')  \n",
        "plt.grid(False)\n",
        "plt.show()"
      ],
      "execution_count": 61,
      "outputs": [
        {
          "output_type": "display_data",
          "data": {
            "image/png": "[encoded data removed]",
            "text/plain": [
              "<Figure size 432x288 with 2 Axes>"
            ]
          },
          "metadata": {
            "needs_background": "light"
          }
        }
      ]
    },
    {
      "cell_type": "code",
      "metadata": {
        "colab": {
          "base_uri": "https://localhost:8080/",
          "height": 279
        },
        "id": "g18Q4yGiJyqK",
        "outputId": "71b97677-1f40-4c3e-fde4-24e2c8220f3a"
      },
      "source": [
        "# Curva ROC\n",
        "plot_roc_curve(reglog, X_test, y_test)  \n",
        "plt.grid()\n",
        "plt.show()"
      ],
      "execution_count": 62,
      "outputs": [
        {
          "output_type": "display_data",
          "data": {
            "image/png": "[encoded data removed]",
            "text/plain": [
              "<Figure size 432x288 with 1 Axes>"
            ]
          },
          "metadata": {
            "needs_background": "light"
          }
        }
      ]
    },
    {
      "cell_type": "markdown",
      "metadata": {
        "id": "aoNl4GY5JGLJ"
      },
      "source": [
        "##Random Forest Classifier"
      ]
    },
    {
      "cell_type": "code",
      "metadata": {
        "colab": {
          "base_uri": "https://localhost:8080/"
        },
        "id": "_Skm6tJUJF6M",
        "outputId": "69d8498c-584a-4c7b-c76e-513e6606fafa"
      },
      "source": [
        "random = RandomForestClassifier()\n",
        "\n",
        "random.fit(X_train,y_train)\n"
      ],
      "execution_count": 63,
      "outputs": [
        {
          "output_type": "execute_result",
          "data": {
            "text/plain": [
              "RandomForestClassifier(bootstrap=True, ccp_alpha=0.0, class_weight=None,\n",
              "                       criterion='gini', max_depth=None, max_features='auto',\n",
              "                       max_leaf_nodes=None, max_samples=None,\n",
              "                       min_impurity_decrease=0.0, min_impurity_split=None,\n",
              "                       min_samples_leaf=1, min_samples_split=2,\n",
              "                       min_weight_fraction_leaf=0.0, n_estimators=100,\n",
              "                       n_jobs=None, oob_score=False, random_state=None,\n",
              "                       verbose=0, warm_start=False)"
            ]
          },
          "metadata": {},
          "execution_count": 63
        }
      ]
    },
    {
      "cell_type": "code",
      "metadata": {
        "colab": {
          "base_uri": "https://localhost:8080/"
        },
        "id": "Jw93UJlDLACe",
        "outputId": "9c4f69e8-63f7-4af8-91b6-534c7821259b"
      },
      "source": [
        "y_pred = random.predict(X_test)\n",
        "f1 = round(f1_score(y_test, y_pred, average='macro')*100, 2)\n",
        "accuracy = round(accuracy_score(y_test, y_pred)*100,2)\n",
        "precision = round(precision_score(y_test, y_pred)*100,2)\n",
        "recall = round(recall_score(y_test, y_pred)*100,2)\n",
        "\n",
        "print(f\"F1 Score: {f1}%\")\n",
        "print(f\"Accuracy Score: {accuracy}%\")\n",
        "print(f\"Precision Score: {precision}%\")\n",
        "print(f\"Recall Score: {recall}%\")\n",
        "\n",
        "\n",
        "metricas[\"Random Forest Classifier\"]={\n",
        "                            \"accuracy\":accuracy,\n",
        "                            \"precision\":precision,\n",
        "                            \"recall\":recall,\n",
        "                            \"f1\":f1\n",
        "                            }\n"
      ],
      "execution_count": 64,
      "outputs": [
        {
          "output_type": "stream",
          "name": "stdout",
          "text": [
            "F1 Score: 81.47%\n",
            "Accuracy Score: 81.97%\n",
            "Precision Score: 73.17%\n",
            "Recall Score: 100.0%\n"
          ]
        }
      ]
    },
    {
      "cell_type": "code",
      "metadata": {
        "colab": {
          "base_uri": "https://localhost:8080/",
          "height": 283
        },
        "id": "fsdG7G8ALgBb",
        "outputId": "77122eb4-f122-4260-c4aa-0d3b4573113d"
      },
      "source": [
        "plot_confusion_matrix(random, X_test, y_test, values_format='d')  \n",
        "plt.grid(False)\n",
        "plt.show()"
      ],
      "execution_count": 65,
      "outputs": [
        {
          "output_type": "display_data",
          "data": {
            "image/png": "[encoded data removed]",
            "text/plain": [
              "<Figure size 432x288 with 2 Axes>"
            ]
          },
          "metadata": {
            "needs_background": "light"
          }
        }
      ]
    },
    {
      "cell_type": "code",
      "metadata": {
        "colab": {
          "base_uri": "https://localhost:8080/",
          "height": 279
        },
        "id": "yZFYP8q1Lhmz",
        "outputId": "afbf798b-250f-41a2-db79-eb27f9142040"
      },
      "source": [
        "# Curva ROC\n",
        "plot_roc_curve(random, X_test, y_test)  \n",
        "plt.grid()\n",
        "plt.show()"
      ],
      "execution_count": 66,
      "outputs": [
        {
          "output_type": "display_data",
          "data": {
            "image/png": "[encoded data removed]",
            "text/plain": [
              "<Figure size 432x288 with 1 Axes>"
            ]
          },
          "metadata": {
            "needs_background": "light"
          }
        }
      ]
    },
    {
      "cell_type": "markdown",
      "metadata": {
        "id": "Mn_myN0ULppS"
      },
      "source": [
        "##SVM -  Kernel Linear"
      ]
    },
    {
      "cell_type": "code",
      "metadata": {
        "colab": {
          "base_uri": "https://localhost:8080/"
        },
        "id": "HfxBcdxqMAlh",
        "outputId": "9171416c-3301-4667-c191-498e6cb35916"
      },
      "source": [
        "svml = SVC(kernel='linear')\n",
        "\n",
        "svml.fit(X_train, y_train)\n",
        "\n"
      ],
      "execution_count": 67,
      "outputs": [
        {
          "output_type": "execute_result",
          "data": {
            "text/plain": [
              "SVC(C=1.0, break_ties=False, cache_size=200, class_weight=None, coef0=0.0,\n",
              "    decision_function_shape='ovr', degree=3, gamma='scale', kernel='linear',\n",
              "    max_iter=-1, probability=False, random_state=None, shrinking=True,\n",
              "    tol=0.001, verbose=False)"
            ]
          },
          "metadata": {},
          "execution_count": 67
        }
      ]
    },
    {
      "cell_type": "code",
      "metadata": {
        "colab": {
          "base_uri": "https://localhost:8080/"
        },
        "id": "9P3OxkiRMaSR",
        "outputId": "98f823d4-7ec1-4631-b4ac-1ad07f196ed0"
      },
      "source": [
        "Y_pred = svml.predict(X_test)\n",
        "f1 = round(f1_score(y_test, y_pred, average='macro')*100, 2)\n",
        "accuracy = round(accuracy_score(y_test, y_pred)*100,2)\n",
        "precision = round(precision_score(y_test, y_pred)*100,2)\n",
        "recall = round(recall_score(y_test, y_pred)*100,2)\n",
        "\n",
        "print(f\"F1 Score: {f1}%\")\n",
        "print(f\"Accuracy Score: {accuracy}%\")\n",
        "print(f\"Precision Score: {precision}%\")\n",
        "print(f\"Recall Score: {recall}%\")\n",
        "\n",
        "\n",
        "metricas[\"SVM Linear\"]={\n",
        "                            \"accuracy\":accuracy,\n",
        "                            \"precision\":precision,\n",
        "                            \"recall\":recall,\n",
        "                            \"f1\":f1\n",
        "                            }"
      ],
      "execution_count": 68,
      "outputs": [
        {
          "output_type": "stream",
          "name": "stdout",
          "text": [
            "F1 Score: 81.47%\n",
            "Accuracy Score: 81.97%\n",
            "Precision Score: 73.17%\n",
            "Recall Score: 100.0%\n"
          ]
        }
      ]
    },
    {
      "cell_type": "code",
      "metadata": {
        "colab": {
          "base_uri": "https://localhost:8080/",
          "height": 283
        },
        "id": "15ENBslSMnim",
        "outputId": "754c9a35-6b42-46fc-cd1c-71709a8a89a7"
      },
      "source": [
        "plot_confusion_matrix(svml, X_test, y_test, values_format='d')  \n",
        "plt.grid(False)\n",
        "plt.show()"
      ],
      "execution_count": 69,
      "outputs": [
        {
          "output_type": "display_data",
          "data": {
            "image/png": "[encoded data removed]",
            "text/plain": [
              "<Figure size 432x288 with 2 Axes>"
            ]
          },
          "metadata": {
            "needs_background": "light"
          }
        }
      ]
    },
    {
      "cell_type": "code",
      "metadata": {
        "colab": {
          "base_uri": "https://localhost:8080/",
          "height": 279
        },
        "id": "SDa_m2YPMo2T",
        "outputId": "7b8bbd6d-90dd-4839-972d-d617e734e1cd"
      },
      "source": [
        "# Curva ROC\n",
        "plot_roc_curve(svml, X_test, y_test)  \n",
        "plt.grid()\n",
        "plt.show()"
      ],
      "execution_count": 70,
      "outputs": [
        {
          "output_type": "display_data",
          "data": {
            "image/png": "[encoded data removed]",
            "text/plain": [
              "<Figure size 432x288 with 1 Axes>"
            ]
          },
          "metadata": {
            "needs_background": "light"
          }
        }
      ]
    },
    {
      "cell_type": "markdown",
      "metadata": {
        "id": "Dm5--GQgMxl8"
      },
      "source": [
        "##SVM - Poly"
      ]
    },
    {
      "cell_type": "code",
      "metadata": {
        "colab": {
          "base_uri": "https://localhost:8080/"
        },
        "id": "crSKE4nnMrLT",
        "outputId": "3ead73b3-9788-4a42-9906-1e106a717054"
      },
      "source": [
        "svmp = SVC(kernel='poly')\n",
        "\n",
        "svmp.fit(X_train, y_train)\n",
        "\n"
      ],
      "execution_count": 71,
      "outputs": [
        {
          "output_type": "execute_result",
          "data": {
            "text/plain": [
              "SVC(C=1.0, break_ties=False, cache_size=200, class_weight=None, coef0=0.0,\n",
              "    decision_function_shape='ovr', degree=3, gamma='scale', kernel='poly',\n",
              "    max_iter=-1, probability=False, random_state=None, shrinking=True,\n",
              "    tol=0.001, verbose=False)"
            ]
          },
          "metadata": {},
          "execution_count": 71
        }
      ]
    },
    {
      "cell_type": "code",
      "metadata": {
        "colab": {
          "base_uri": "https://localhost:8080/"
        },
        "id": "Bbl7XDrHNHjT",
        "outputId": "0dddfaf0-0cbb-49c6-ecad-b0b88a52e5b8"
      },
      "source": [
        "Y_pred = svmp.predict(X_test)\n",
        "f1 = round(f1_score(y_test, y_pred, average='macro')*100, 2)\n",
        "accuracy = round(accuracy_score(y_test, y_pred)*100,2)\n",
        "precision = round(precision_score(y_test, y_pred)*100,2)\n",
        "recall = round(recall_score(y_test, y_pred)*100,2)\n",
        "\n",
        "print(f\"F1 Score: {f1}%\")\n",
        "print(f\"Accuracy Score: {accuracy}%\")\n",
        "print(f\"Precision Score: {precision}%\")\n",
        "print(f\"Recall Score: {recall}%\")\n",
        "\n",
        "\n",
        "metricas[\"SVM poly\"]={\n",
        "                        \"accuracy\":accuracy,\n",
        "                        \"precision\":precision,\n",
        "                        \"recall\":recall,\n",
        "                        \"f1\":f1\n",
        "                            }"
      ],
      "execution_count": 72,
      "outputs": [
        {
          "output_type": "stream",
          "name": "stdout",
          "text": [
            "F1 Score: 81.47%\n",
            "Accuracy Score: 81.97%\n",
            "Precision Score: 73.17%\n",
            "Recall Score: 100.0%\n"
          ]
        }
      ]
    },
    {
      "cell_type": "code",
      "metadata": {
        "colab": {
          "base_uri": "https://localhost:8080/",
          "height": 279
        },
        "id": "5kBGSf0HNNYL",
        "outputId": "b42b5976-216e-45a6-baa5-5169d6b7b341"
      },
      "source": [
        "plot_confusion_matrix(svmp, X_test, y_test, values_format='d')  \n",
        "plt.grid(False)\n",
        "plt.show()"
      ],
      "execution_count": 73,
      "outputs": [
        {
          "output_type": "display_data",
          "data": {
            "image/png": "[encoded data removed]",
            "text/plain": [
              "<Figure size 432x288 with 2 Axes>"
            ]
          },
          "metadata": {
            "needs_background": "light"
          }
        }
      ]
    },
    {
      "cell_type": "code",
      "metadata": {
        "colab": {
          "base_uri": "https://localhost:8080/",
          "height": 279
        },
        "id": "xJDw64b4NURx",
        "outputId": "d02c8df9-8b05-4412-c628-8043627389ed"
      },
      "source": [
        "# Curva ROC\n",
        "plot_roc_curve(svmp, X_test, y_test)  \n",
        "plt.grid()\n",
        "plt.show()"
      ],
      "execution_count": 74,
      "outputs": [
        {
          "output_type": "display_data",
          "data": {
            "image/png": "[encoded data removed]",
            "text/plain": [
              "<Figure size 432x288 with 1 Axes>"
            ]
          },
          "metadata": {
            "needs_background": "light"
          }
        }
      ]
    },
    {
      "cell_type": "markdown",
      "metadata": {
        "id": "brmkEMUpNehu"
      },
      "source": [
        "##Decision Tree"
      ]
    },
    {
      "cell_type": "code",
      "metadata": {
        "colab": {
          "base_uri": "https://localhost:8080/"
        },
        "id": "Z_P9jBQfNg7b",
        "outputId": "afbf311f-d5a7-49c4-ced9-2abeaa1bd47a"
      },
      "source": [
        "dt = DecisionTreeClassifier()\n",
        "\n",
        "dt.fit(X_train, y_train)\n",
        "\n"
      ],
      "execution_count": 75,
      "outputs": [
        {
          "output_type": "execute_result",
          "data": {
            "text/plain": [
              "DecisionTreeClassifier(ccp_alpha=0.0, class_weight=None, criterion='gini',\n",
              "                       max_depth=None, max_features=None, max_leaf_nodes=None,\n",
              "                       min_impurity_decrease=0.0, min_impurity_split=None,\n",
              "                       min_samples_leaf=1, min_samples_split=2,\n",
              "                       min_weight_fraction_leaf=0.0, presort='deprecated',\n",
              "                       random_state=None, splitter='best')"
            ]
          },
          "metadata": {},
          "execution_count": 75
        }
      ]
    },
    {
      "cell_type": "code",
      "metadata": {
        "colab": {
          "base_uri": "https://localhost:8080/"
        },
        "id": "GPTil0-qN6i1",
        "outputId": "cd5cc000-8662-473c-bc9b-3d5384e890ba"
      },
      "source": [
        "Y_pred = dt.predict(X_test)\n",
        "f1 = round(f1_score(y_test, y_pred, average='macro')*100, 2)\n",
        "accuracy = round(accuracy_score(y_test, y_pred)*100,2)\n",
        "precision = round(precision_score(y_test, y_pred)*100,2)\n",
        "recall = round(recall_score(y_test, y_pred)*100,2)\n",
        "\n",
        "print(f\"F1 Score: {f1}%\")\n",
        "print(f\"Accuracy Score: {accuracy}%\")\n",
        "print(f\"Precision Score: {precision}%\")\n",
        "print(f\"Recall Score: {recall}%\")\n",
        "\n",
        "\n",
        "metricas[\"Decision Tree\"]={\n",
        "                            \"accuracy\":accuracy,\n",
        "                            \"precision\":precision,\n",
        "                            \"recall\":recall,\n",
        "                            \"f1\":f1\n",
        "                            }"
      ],
      "execution_count": 76,
      "outputs": [
        {
          "output_type": "stream",
          "name": "stdout",
          "text": [
            "F1 Score: 81.47%\n",
            "Accuracy Score: 81.97%\n",
            "Precision Score: 73.17%\n",
            "Recall Score: 100.0%\n"
          ]
        }
      ]
    },
    {
      "cell_type": "code",
      "metadata": {
        "colab": {
          "base_uri": "https://localhost:8080/",
          "height": 283
        },
        "id": "Clvo5ssrOAO9",
        "outputId": "436c9ba6-1dae-4d91-f92f-091f3c65296b"
      },
      "source": [
        "plot_confusion_matrix(dt, X_test, y_test, values_format='d')  \n",
        "plt.grid(False)\n",
        "plt.show()"
      ],
      "execution_count": 77,
      "outputs": [
        {
          "output_type": "display_data",
          "data": {
            "image/png": "[encoded data removed]",
            "text/plain": [
              "<Figure size 432x288 with 2 Axes>"
            ]
          },
          "metadata": {
            "needs_background": "light"
          }
        }
      ]
    },
    {
      "cell_type": "code",
      "metadata": {
        "colab": {
          "base_uri": "https://localhost:8080/",
          "height": 279
        },
        "id": "4qNbYGpPOCCV",
        "outputId": "c29b2e29-a33f-41e7-dce6-3209247e2e1e"
      },
      "source": [
        "# Curva ROC\n",
        "plot_roc_curve(dt, X_test, y_test)  \n",
        "plt.grid()\n",
        "plt.show()"
      ],
      "execution_count": 78,
      "outputs": [
        {
          "output_type": "display_data",
          "data": {
            "image/png": "[encoded data removed]",
            "text/plain": [
              "<Figure size 432x288 with 1 Axes>"
            ]
          },
          "metadata": {
            "needs_background": "light"
          }
        }
      ]
    },
    {
      "cell_type": "code",
      "metadata": {
        "id": "Ijxrjdt5OFVP"
      },
      "source": [
        ""
      ],
      "execution_count": 78,
      "outputs": []
    },
    {
      "cell_type": "markdown",
      "metadata": {
        "id": "OAbbbcM1O4sB"
      },
      "source": [
        "##Redes Neurais"
      ]
    },
    {
      "cell_type": "code",
      "metadata": {
        "colab": {
          "base_uri": "https://localhost:8080/"
        },
        "id": "xroIOtHcO6zL",
        "outputId": "c24a5b18-fc31-466f-f0c2-ad3dfcbcb0b7"
      },
      "source": [
        "rn = MLPClassifier()\n",
        "\n",
        "rn.fit(X_train, y_train)\n"
      ],
      "execution_count": 79,
      "outputs": [
        {
          "output_type": "execute_result",
          "data": {
            "text/plain": [
              "MLPClassifier(activation='relu', alpha=0.0001, batch_size='auto', beta_1=0.9,\n",
              "              beta_2=0.999, early_stopping=False, epsilon=1e-08,\n",
              "              hidden_layer_sizes=(100,), learning_rate='constant',\n",
              "              learning_rate_init=0.001, max_fun=15000, max_iter=200,\n",
              "              momentum=0.9, n_iter_no_change=10, nesterovs_momentum=True,\n",
              "              power_t=0.5, random_state=None, shuffle=True, solver='adam',\n",
              "              tol=0.0001, validation_fraction=0.1, verbose=False,\n",
              "              warm_start=False)"
            ]
          },
          "metadata": {},
          "execution_count": 79
        }
      ]
    },
    {
      "cell_type": "code",
      "metadata": {
        "colab": {
          "base_uri": "https://localhost:8080/"
        },
        "id": "tsONqwINPPJ7",
        "outputId": "6f120952-c4c1-4a31-8462-78e1e1ce28fd"
      },
      "source": [
        "y_pred = rn.predict(X_test)\n",
        "f1 = round(f1_score(y_test, y_pred, average='macro')*100, 2)\n",
        "accuracy = round(accuracy_score(y_test, y_pred)*100,2)\n",
        "precision = round(precision_score(y_test, y_pred)*100,2)\n",
        "recall = round(recall_score(y_test, y_pred)*100,2)\n",
        "\n",
        "print(f\"F1 Score: {f1}%\")\n",
        "print(f\"Accuracy Score: {accuracy}%\")\n",
        "print(f\"Precision Score: {precision}%\")\n",
        "print(f\"Recall Score: {recall}%\")\n",
        "\n",
        "\n",
        "metricas[\"Redes Neurais\"]={\n",
        "                            \"accuracy\":accuracy,\n",
        "                            \"precision\":precision,\n",
        "                            \"recall\":recall,\n",
        "                            \"f1\":f1\n",
        "                            }"
      ],
      "execution_count": 80,
      "outputs": [
        {
          "output_type": "stream",
          "name": "stdout",
          "text": [
            "F1 Score: 39.77%\n",
            "Accuracy Score: 52.46%\n",
            "Precision Score: 50.85%\n",
            "Recall Score: 100.0%\n"
          ]
        }
      ]
    },
    {
      "cell_type": "code",
      "metadata": {
        "colab": {
          "base_uri": "https://localhost:8080/",
          "height": 283
        },
        "id": "0dnhyyRdPWvL",
        "outputId": "ad471d49-59c2-4c12-9fe5-b2407dbcaf1f"
      },
      "source": [
        "plot_confusion_matrix(rn, X_test, y_test, values_format='d')  \n",
        "plt.grid(False)\n",
        "plt.show()"
      ],
      "execution_count": 81,
      "outputs": [
        {
          "output_type": "display_data",
          "data": {
            "image/png": "[encoded data removed]",
            "text/plain": [
              "<Figure size 432x288 with 2 Axes>"
            ]
          },
          "metadata": {
            "needs_background": "light"
          }
        }
      ]
    },
    {
      "cell_type": "code",
      "metadata": {
        "colab": {
          "base_uri": "https://localhost:8080/",
          "height": 279
        },
        "id": "r7Md6Og6PZOL",
        "outputId": "5d66a976-c7f9-4310-a5a0-7ec2867e6e12"
      },
      "source": [
        "# Curva ROC\n",
        "plot_roc_curve(rn, X_test, y_test)  \n",
        "plt.grid()\n",
        "plt.show()"
      ],
      "execution_count": 82,
      "outputs": [
        {
          "output_type": "display_data",
          "data": {
            "image/png": "[encoded data removed]",
            "text/plain": [
              "<Figure size 432x288 with 1 Axes>"
            ]
          },
          "metadata": {
            "needs_background": "light"
          }
        }
      ]
    },
    {
      "cell_type": "markdown",
      "metadata": {
        "id": "v7fXFc6KQ6aH"
      },
      "source": [
        "## XGBoost"
      ]
    },
    {
      "cell_type": "code",
      "metadata": {
        "colab": {
          "base_uri": "https://localhost:8080/"
        },
        "id": "iLx9IZqNPcmD",
        "outputId": "b74760d3-bdb9-4268-c47e-75a3efa664a3"
      },
      "source": [
        "xgb = XGBClassifier()\n",
        "\n",
        "xgb.fit(X_train, y_train)\n",
        "\n"
      ],
      "execution_count": 83,
      "outputs": [
        {
          "output_type": "execute_result",
          "data": {
            "text/plain": [
              "XGBClassifier(base_score=0.5, booster='gbtree', colsample_bylevel=1,\n",
              "              colsample_bynode=1, colsample_bytree=1, gamma=0,\n",
              "              learning_rate=0.1, max_delta_step=0, max_depth=3,\n",
              "              min_child_weight=1, missing=None, n_estimators=100, n_jobs=1,\n",
              "              nthread=None, objective='binary:logistic', random_state=0,\n",
              "              reg_alpha=0, reg_lambda=1, scale_pos_weight=1, seed=None,\n",
              "              silent=None, subsample=1, verbosity=1)"
            ]
          },
          "metadata": {},
          "execution_count": 83
        }
      ]
    },
    {
      "cell_type": "code",
      "metadata": {
        "colab": {
          "base_uri": "https://localhost:8080/"
        },
        "id": "-jyx6P83Q5u_",
        "outputId": "48b34b9a-ca9e-449e-c914-ffd388ce20df"
      },
      "source": [
        "y_pred = xgb.predict(X_test)\n",
        "f1 = round(f1_score(y_test, y_pred, average='macro')*100, 2)\n",
        "accuracy = round(accuracy_score(y_test, y_pred)*100,2)\n",
        "precision = round(precision_score(y_test, y_pred)*100,2)\n",
        "recall = round(recall_score(y_test, y_pred)*100,2)\n",
        "\n",
        "print(f\"F1 Score: {f1}%\")\n",
        "print(f\"Accuracy Score: {accuracy}%\")\n",
        "print(f\"Precision Score: {precision}%\")\n",
        "print(f\"Recall Score: {recall}%\")\n",
        "\n",
        "metricas[\"Redes Neurais\"]={\n",
        "                            \"accuracy\":accuracy,\n",
        "                            \"precision\":precision,\n",
        "                            \"recall\":recall,\n",
        "                            \"f1\":f1\n",
        "                            }"
      ],
      "execution_count": 84,
      "outputs": [
        {
          "output_type": "stream",
          "name": "stdout",
          "text": [
            "F1 Score: 78.32%\n",
            "Accuracy Score: 78.69%\n",
            "Precision Score: 71.79%\n",
            "Recall Score: 93.33%\n"
          ]
        }
      ]
    },
    {
      "cell_type": "code",
      "metadata": {
        "colab": {
          "base_uri": "https://localhost:8080/",
          "height": 283
        },
        "id": "hHyGy2chRS75",
        "outputId": "31b52dcf-8628-48ac-84a6-2fdc8a30ca47"
      },
      "source": [
        "plot_confusion_matrix(rn, X_test, y_test, values_format='d')  \n",
        "plt.grid(False)\n",
        "plt.show()"
      ],
      "execution_count": 85,
      "outputs": [
        {
          "output_type": "display_data",
          "data": {
            "image/png": "[encoded data removed]",
            "text/plain": [
              "<Figure size 432x288 with 2 Axes>"
            ]
          },
          "metadata": {
            "needs_background": "light"
          }
        }
      ]
    },
    {
      "cell_type": "code",
      "metadata": {
        "colab": {
          "base_uri": "https://localhost:8080/",
          "height": 279
        },
        "id": "SFBIJg3LRWhZ",
        "outputId": "9ffb5dc4-e50b-4bd9-c6d0-973220c00d15"
      },
      "source": [
        "# Curva ROC\n",
        "plot_roc_curve(rn, X_test, y_test)  \n",
        "plt.grid()\n",
        "plt.show()"
      ],
      "execution_count": 86,
      "outputs": [
        {
          "output_type": "display_data",
          "data": {
            "image/png": "[encoded data removed]",
            "text/plain": [
              "<Figure size 432x288 with 1 Axes>"
            ]
          },
          "metadata": {
            "needs_background": "light"
          }
        }
      ]
    },
    {
      "cell_type": "markdown",
      "metadata": {
        "id": "gDWTnJKDtmGv"
      },
      "source": [
        "# PCA"
      ]
    },
    {
      "cell_type": "code",
      "metadata": {
        "id": "D9Txn59atozH"
      },
      "source": [
        "from sklearn.decomposition import PCA"
      ],
      "execution_count": 90,
      "outputs": []
    },
    {
      "cell_type": "code",
      "metadata": {
        "id": "xwgxcMWDtp7r"
      },
      "source": [
        "pca = PCA(n_components=2)"
      ],
      "execution_count": 91,
      "outputs": []
    },
    {
      "cell_type": "code",
      "metadata": {
        "id": "Rdk4Tf7lt9I_"
      },
      "source": [
        "X pca.fit_transform(df)"
      ],
      "execution_count": null,
      "outputs": []
    },
    {
      "cell_type": "code",
      "metadata": {
        "id": "3asUwvq5uCgN"
      },
      "source": [
        "X = df.drop(['target'], axis=1)\n",
        "y = df['target']"
      ],
      "execution_count": 97,
      "outputs": []
    },
    {
      "cell_type": "code",
      "metadata": {
        "id": "UUd2_Yhpuddd"
      },
      "source": [
        ""
      ],
      "execution_count": null,
      "outputs": []
    }
  ]
}